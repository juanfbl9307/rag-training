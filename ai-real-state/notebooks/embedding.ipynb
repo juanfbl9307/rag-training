{
 "cells": [
  {
   "cell_type": "code",
   "id": "initial_id",
   "metadata": {
    "collapsed": true,
    "ExecuteTime": {
     "end_time": "2025-02-02T17:08:53.536565Z",
     "start_time": "2025-02-02T17:08:51.447570Z"
    }
   },
   "source": [
    "import getpass\n",
    "import os\n",
    "\n",
    "if not os.environ.get(\"OPENAI_API_KEY\"):\n",
    "  os.environ[\"OPENAI_API_KEY\"] = getpass.getpass(\"Enter API key for OpenAI: \")\n",
    "\n",
    "from langchain_openai import OpenAIEmbeddings\n",
    "\n",
    "embeddings = OpenAIEmbeddings(model=\"text-embedding-3-large\")"
   ],
   "outputs": [],
   "execution_count": 1
  },
  {
   "metadata": {
    "ExecuteTime": {
     "end_time": "2025-02-02T17:08:55.815411Z",
     "start_time": "2025-02-02T17:08:54.522533Z"
    }
   },
   "cell_type": "code",
   "source": [
    "from langchain_chroma import Chroma\n",
    "\n",
    "vector_store = Chroma(\n",
    "    collection_name=\"montuno\",\n",
    "    embedding_function=embeddings,\n",
    "    persist_directory=\"./chroma_langchain_db\",  # Where to save data locally, remove if not necessary\n",
    ")"
   ],
   "id": "8739e72268b30014",
   "outputs": [],
   "execution_count": 2
  },
  {
   "metadata": {},
   "cell_type": "markdown",
   "source": "## Add Documents",
   "id": "808868141880d089"
  },
  {
   "metadata": {
    "ExecuteTime": {
     "end_time": "2025-02-02T17:09:15.679012Z",
     "start_time": "2025-02-02T17:09:13.820579Z"
    }
   },
   "cell_type": "code",
   "source": [
    "from langchain_community.document_loaders import UnstructuredMarkdownLoader\n",
    "from langchain.text_splitter import RecursiveCharacterTextSplitter\n",
    "from langchain_core.documents import Document\n",
    "from langchain.document_loaders import TextLoader\n",
    "\n",
    "loader = TextLoader(\"../data/real-state/proyectos.md\")  # Reemplaza con la ruta de tu archivo\n",
    "documents = loader.load()\n",
    "\n",
    "text_splitter = RecursiveCharacterTextSplitter(\n",
    "    chunk_size=1000,  # Tamaño de cada chunk (en caracteres)\n",
    "    chunk_overlap=200,  # Superposición entre chunks\n",
    "    length_function=len,  # Función para calcular la longitud del texto\n",
    ")\n",
    "chunks = text_splitter.split_documents(documents)\n",
    "\n",
    "# 4. Almacenar los embeddings en una base de datos vectorial (FAISS en este caso)\n",
    "vector_db = vector_store.from_documents(chunks, embeddings)\n"
   ],
   "id": "3afafc68e9382fa",
   "outputs": [],
   "execution_count": 3
  },
  {
   "metadata": {},
   "cell_type": "markdown",
   "source": "## Query From vector store",
   "id": "be58f4998e766db8"
  },
  {
   "metadata": {
    "ExecuteTime": {
     "end_time": "2025-02-02T16:53:11.771725Z",
     "start_time": "2025-02-02T16:53:11.009574Z"
    }
   },
   "cell_type": "code",
   "source": [
    "results = vector_store.similarity_search(\n",
    "    \"cash\",\n",
    "    k=2,\n",
    "    filter={\"source\": \"news\"},\n",
    ")\n",
    "for res in results:\n",
    "    print(f\"* {res.page_content} [{res.metadata}]\")"
   ],
   "id": "a1c7b2f576511088",
   "outputs": [],
   "execution_count": 31
  },
  {
   "metadata": {
    "ExecuteTime": {
     "end_time": "2025-02-02T16:53:12.530310Z",
     "start_time": "2025-02-02T16:53:11.783851Z"
    }
   },
   "cell_type": "code",
   "source": [
    "docs = vector_store.similarity_search_with_score(\"how many cash stolen?\",k=2)\n",
    "print(docs)"
   ],
   "id": "a7b05936c363cfc8",
   "outputs": [
    {
     "name": "stdout",
     "output_type": "stream",
     "text": [
      "[(Document(id='2d28a2ff-b975-4ed0-8a50-927457c642fe', metadata={'tipo': 'sabor'}, page_content='Chocolate'), 1.7875199701499045), (Document(id='292fdbf5-de20-4885-adde-2722b7d5e11e', metadata={'tipo': 'sabor'}, page_content='Chocolate'), 1.7875199701499045)]\n"
     ]
    }
   ],
   "execution_count": 32
  },
  {
   "metadata": {},
   "cell_type": "markdown",
   "source": "## Retriever",
   "id": "2cec90dcffb0d6eb"
  },
  {
   "metadata": {
    "ExecuteTime": {
     "end_time": "2025-02-02T17:09:44.978733Z",
     "start_time": "2025-02-02T17:09:44.975087Z"
    }
   },
   "cell_type": "code",
   "source": "retriever = vector_store.as_retriever()",
   "id": "9b52887bf686a9dc",
   "outputs": [],
   "execution_count": 5
  },
  {
   "metadata": {},
   "cell_type": "markdown",
   "source": "## Prompt template",
   "id": "190cd1724da664ce"
  },
  {
   "metadata": {
    "ExecuteTime": {
     "end_time": "2025-02-02T17:09:46.942170Z",
     "start_time": "2025-02-02T17:09:46.906944Z"
    }
   },
   "cell_type": "code",
   "source": [
    "from langchain_core.runnables import RunnablePassthrough\n",
    "from langchain_core.prompts import ChatPromptTemplate, MessagesPlaceholder\n",
    "from langchain_openai import ChatOpenAI, OpenAIEmbeddings\n",
    "from langchain_core.output_parsers import StrOutputParser\n",
    "\n",
    "model = \"gpt-3.5-turbo\"\n",
    "\n",
    "llm = ChatOpenAI(temperature=0.5, model=model, max_tokens=4096)\n",
    "template = \"\"\"Responde las siguientes preguntas con base en los siguientes contexto:\n",
    "Eres un asistente virtual especializado en una agencia inmobiliaria. Tu tarea es proporcionar información precisa y útil sobre los proyectos inmobiliarios disponibles. Utiliza únicamente la información proporcionada en los documentos para responder.\n",
    "\n",
    "Proyectos disponibles:\n",
    "1. **Proyecto A**: Residencial \"Bosque Verde\"\n",
    "2. **Proyecto B**: Comercial \"Plaza Sol\"\n",
    "3. **Proyecto C**: Residencial de lujo \"Altos del Mar\"\n",
    "\n",
    "Instrucciones:\n",
    "- Responde de manera clara y concisa.\n",
    "- Si no tienes información suficiente, indica que no cuentas con los detalles necesarios.\n",
    "- Prioriza la información sobre ubicación, precios, características y disponibilidad.\n",
    "\n",
    "Mas contexto: {context}\n",
    "\n",
    "Pregunta del usuario: {question}\n",
    "\"\"\"\n",
    "prompt = ChatPromptTemplate.from_template(template)\n",
    "\n",
    "rag_chain = (\n",
    "    {\"context\": retriever, \"question\": RunnablePassthrough()}\n",
    "    | prompt\n",
    "    | llm\n",
    "    | StrOutputParser()\n",
    ")"
   ],
   "id": "9aedd97d5dbfcada",
   "outputs": [],
   "execution_count": 6
  },
  {
   "metadata": {
    "ExecuteTime": {
     "end_time": "2025-02-02T17:11:15.312659Z",
     "start_time": "2025-02-02T17:11:12.638493Z"
    }
   },
   "cell_type": "code",
   "source": [
    "response = rag_chain.invoke(\"tengo presupuesto de 150000 usd, cual proyecto me recomiendas?\")\n",
    "print(response)"
   ],
   "id": "ad66716817840325",
   "outputs": [
    {
     "name": "stdout",
     "output_type": "stream",
     "text": [
      "Con base en tu presupuesto de 150,000 USD, te recomendaría el Proyecto A: Residencial \"Bosque Verde\".\n"
     ]
    }
   ],
   "execution_count": 9
  }
 ],
 "metadata": {
  "kernelspec": {
   "display_name": "Python 3",
   "language": "python",
   "name": "python3"
  },
  "language_info": {
   "codemirror_mode": {
    "name": "ipython",
    "version": 2
   },
   "file_extension": ".py",
   "mimetype": "text/x-python",
   "name": "python",
   "nbconvert_exporter": "python",
   "pygments_lexer": "ipython2",
   "version": "2.7.6"
  }
 },
 "nbformat": 4,
 "nbformat_minor": 5
}
