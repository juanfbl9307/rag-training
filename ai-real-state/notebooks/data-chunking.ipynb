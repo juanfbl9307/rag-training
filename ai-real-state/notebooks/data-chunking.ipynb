{
 "cells": [
  {
   "cell_type": "code",
   "id": "initial_id",
   "metadata": {
    "collapsed": true,
    "ExecuteTime": {
     "end_time": "2025-02-03T21:50:32.958654Z",
     "start_time": "2025-02-03T21:50:32.926731Z"
    }
   },
   "source": [
    "from langchain_chroma import Chroma\n",
    "from langchain_openai import OpenAIEmbeddings\n",
    "\n",
    "embeddings = OpenAIEmbeddings(model=\"text-embedding-3-small\")\n",
    "vector_store = Chroma(\n",
    "    collection_name=\"real-state\",\n",
    "    embedding_function=embeddings,\n",
    "    persist_directory=\"./chroma_langchain_db_txt\",  # Where to save data locally, remove if not necessary\n",
    ")"
   ],
   "outputs": [],
   "execution_count": 5
  },
  {
   "metadata": {
    "ExecuteTime": {
     "end_time": "2025-02-03T21:50:35.354625Z",
     "start_time": "2025-02-03T21:50:32.966485Z"
    }
   },
   "cell_type": "code",
   "source": [
    "from langchain.text_splitter import RecursiveCharacterTextSplitter\n",
    "from langchain.document_loaders import TextLoader\n",
    "\n",
    "loader = TextLoader(\"../data/real-state/proyectos.txt\")  # Reemplaza con la ruta de tu archivo\n",
    "documents = loader.load()\n",
    "\n",
    "text_splitter = RecursiveCharacterTextSplitter(\n",
    "    chunk_size=100,  # Tamaño de cada chunk (en caracteres)\n",
    "    chunk_overlap=20,  # Superposición entre chunks\n",
    "    length_function=len,  # Función para calcular la longitud del texto\n",
    ")\n",
    "chunks = text_splitter.split_documents(documents)\n",
    "\n",
    "# 4. Almacenar los embeddings en una base de datos vectorial (FAISS en este caso)\n",
    "vector_db = vector_store.from_documents(chunks, embeddings)"
   ],
   "id": "4e04127bda54bdc3",
   "outputs": [],
   "execution_count": 6
  }
 ],
 "metadata": {
  "kernelspec": {
   "display_name": "Python 3",
   "language": "python",
   "name": "python3"
  },
  "language_info": {
   "codemirror_mode": {
    "name": "ipython",
    "version": 2
   },
   "file_extension": ".py",
   "mimetype": "text/x-python",
   "name": "python",
   "nbconvert_exporter": "python",
   "pygments_lexer": "ipython2",
   "version": "2.7.6"
  }
 },
 "nbformat": 4,
 "nbformat_minor": 5
}
