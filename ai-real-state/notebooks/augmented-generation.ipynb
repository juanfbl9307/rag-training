{
 "cells": [
  {
   "cell_type": "code",
   "id": "initial_id",
   "metadata": {
    "collapsed": true,
    "ExecuteTime": {
     "end_time": "2025-02-03T21:50:46.500133Z",
     "start_time": "2025-02-03T21:50:46.448325Z"
    }
   },
   "source": [
    "import getpass\n",
    "import os\n",
    "from langchain_openai import ChatOpenAI\n",
    "from langchain_openai import OpenAIEmbeddings\n",
    "\n",
    "\n",
    "if not os.environ.get(\"OPENAI_API_KEY\"):\n",
    "  os.environ[\"OPENAI_API_KEY\"] = getpass.getpass(\"Enter API key for OpenAI: \")\n",
    "\n",
    "model = \"gpt-3.5-turbo\"\n",
    "\n",
    "llm = ChatOpenAI(temperature=0.5, model=model, max_tokens=4096)\n",
    "embeddings = OpenAIEmbeddings(model=\"text-embedding-3-small\")"
   ],
   "outputs": [],
   "execution_count": 12
  },
  {
   "metadata": {
    "ExecuteTime": {
     "end_time": "2025-02-03T21:50:46.521051Z",
     "start_time": "2025-02-03T21:50:46.505369Z"
    }
   },
   "cell_type": "code",
   "source": [
    "from langchain_chroma import Chroma\n",
    "\n",
    "vector_store = Chroma(\n",
    "    collection_name=\"real-state\",\n",
    "    embedding_function=embeddings,\n",
    "    persist_directory=\"./chroma_langchain_db_txt\",  # Where to save data locally, remove if not necessary\n",
    ")"
   ],
   "id": "8739e72268b30014",
   "outputs": [],
   "execution_count": 13
  },
  {
   "metadata": {},
   "cell_type": "markdown",
   "source": "## Retriever",
   "id": "2cec90dcffb0d6eb"
  },
  {
   "metadata": {
    "ExecuteTime": {
     "end_time": "2025-02-03T21:50:46.547121Z",
     "start_time": "2025-02-03T21:50:46.544308Z"
    }
   },
   "cell_type": "code",
   "source": "retriever = vector_store.as_retriever()",
   "id": "9b52887bf686a9dc",
   "outputs": [],
   "execution_count": 14
  },
  {
   "metadata": {},
   "cell_type": "markdown",
   "source": "## Prompt template",
   "id": "190cd1724da664ce"
  },
  {
   "metadata": {
    "ExecuteTime": {
     "end_time": "2025-02-03T21:50:46.571834Z",
     "start_time": "2025-02-03T21:50:46.567760Z"
    }
   },
   "cell_type": "code",
   "source": [
    "from langchain_core.prompts import ChatPromptTemplate, MessagesPlaceholder\n",
    "\n",
    "template = \"\"\"Responde las siguientes preguntas con base en los siguientes contexto:\n",
    "Eres un asistente virtual especializado en una agencia inmobiliaria. Tu tarea es proporcionar información precisa y útil sobre los proyectos inmobiliarios disponibles. Utiliza únicamente la información proporcionada en los documentos para responder.\n",
    "\n",
    "Proyectos disponibles:\n",
    "1. **Proyecto A**: Residencial \"Bosque Verde\"\n",
    "2. **Proyecto B**: Comercial \"Plaza Sol\"\n",
    "3. **Proyecto C**: Residencial de lujo \"Altos del Mar\"\n",
    "\n",
    "Instrucciones:\n",
    "- Responde de manera clara y concisa.\n",
    "- Si no tienes información suficiente, indica que no cuentas con los detalles necesarios.\n",
    "- Prioriza la información sobre ubicación, precios, características y disponibilidad.\n",
    "- El año actual es 2025.\n",
    "\n",
    "{context}\n",
    "\"\"\"\n",
    "prompt_template = ChatPromptTemplate([\n",
    "    (\"system\", template),\n",
    "    (\"user\", \"{question}\")\n",
    "])"
   ],
   "id": "1f69c518623844fd",
   "outputs": [],
   "execution_count": 15
  },
  {
   "metadata": {},
   "cell_type": "markdown",
   "source": "## RAG Chain",
   "id": "cb3d72f6b243a9a9"
  },
  {
   "metadata": {
    "ExecuteTime": {
     "end_time": "2025-02-03T21:50:46.579593Z",
     "start_time": "2025-02-03T21:50:46.576342Z"
    }
   },
   "cell_type": "code",
   "source": [
    "from langchain_core.runnables import RunnablePassthrough\n",
    "from langchain_core.output_parsers import StrOutputParser\n",
    "\n",
    "rag_chain = (\n",
    "    {\"context\": retriever, \"question\": RunnablePassthrough()}\n",
    "    | prompt_template\n",
    "    | llm\n",
    "    | StrOutputParser()\n",
    ")"
   ],
   "id": "9aedd97d5dbfcada",
   "outputs": [],
   "execution_count": 16
  },
  {
   "metadata": {
    "ExecuteTime": {
     "end_time": "2025-02-03T21:50:48.958248Z",
     "start_time": "2025-02-03T21:50:46.592174Z"
    }
   },
   "cell_type": "code",
   "source": [
    "response = rag_chain.invoke(\"dame precios?\")\n",
    "print(response)"
   ],
   "id": "ad66716817840325",
   "outputs": [
    {
     "name": "stdout",
     "output_type": "stream",
     "text": [
      "Claro, aquí tienes la información de los precios de los proyectos disponibles:\n",
      "\n",
      "1. **Proyecto A - Residencial \"Bosque Verde\"**: Los precios van desde $150,000 hasta $300,000.\n",
      "2. **Proyecto B - Comercial \"Plaza Sol\"**: No se especifican los precios en el documento proporcionado.\n",
      "3. **Proyecto C - Residencial de lujo \"Altos del Mar\"**: Los precios van desde $500,000 hasta $1,000,000.\n"
     ]
    }
   ],
   "execution_count": 17
  },
  {
   "metadata": {},
   "cell_type": "markdown",
   "source": "## RAG Graph",
   "id": "cc46dfd7d38e8335"
  },
  {
   "metadata": {
    "ExecuteTime": {
     "end_time": "2025-02-03T21:50:48.985738Z",
     "start_time": "2025-02-03T21:50:48.976191Z"
    }
   },
   "cell_type": "code",
   "source": [
    "from langchain_core.documents import Document\n",
    "from langgraph.graph import START, StateGraph\n",
    "from typing_extensions import List, TypedDict\n",
    "class State(TypedDict):\n",
    "    question: str\n",
    "    context: List[Document]\n",
    "    answer: str\n",
    "\n",
    "\n",
    "# Define application steps\n",
    "def retrieve(state: State):\n",
    "    retrieved_docs = vector_store.similarity_search(state[\"question\"],k=3)\n",
    "    return {\"context\": retrieved_docs}\n",
    "\n",
    "\n",
    "def generate(state: State):\n",
    "    docs_content = \"\\n\\n\".join(doc.page_content for doc in state[\"context\"])\n",
    "    messages = prompt_template.invoke({\"question\": state[\"question\"], \"context\": docs_content})\n",
    "    response = llm.invoke(messages)\n",
    "    return {\"answer\": response.content}\n",
    "\n",
    "graph_builder = StateGraph(State).add_sequence([retrieve, generate])\n",
    "graph_builder.add_edge(START, \"retrieve\")\n",
    "graph = graph_builder.compile()"
   ],
   "id": "8605b2ca2d27948f",
   "outputs": [],
   "execution_count": 18
  },
  {
   "metadata": {
    "ExecuteTime": {
     "end_time": "2025-02-03T21:50:51.413807Z",
     "start_time": "2025-02-03T21:50:48.997331Z"
    }
   },
   "cell_type": "code",
   "source": [
    "response = graph.invoke({\"question\": \"hablame todo acerca del proyecto A, dame precios\"})\n",
    "print(response[\"answer\"])"
   ],
   "id": "c256a67f028064c7",
   "outputs": [
    {
     "name": "stdout",
     "output_type": "stream",
     "text": [
      "El proyecto A es el residencial \"Bosque Verde\". Se encuentra ubicado en la zona sur de la ciudad, cerca de parques y áreas verdes. Ofrece apartamentos de 2 y 3 habitaciones, con amplias áreas comunes, piscina y gimnasio. En cuanto a precios, los apartamentos de 2 habitaciones tienen un valor desde $150,000, mientras que los de 3 habitaciones parten desde $200,000. Para más detalles sobre disponibilidad y formas de pago, te recomendaría contactar directamente a la agencia inmobiliaria a cargo del proyecto.\n"
     ]
    }
   ],
   "execution_count": 19
  }
 ],
 "metadata": {
  "kernelspec": {
   "display_name": "Python 3",
   "language": "python",
   "name": "python3"
  },
  "language_info": {
   "codemirror_mode": {
    "name": "ipython",
    "version": 2
   },
   "file_extension": ".py",
   "mimetype": "text/x-python",
   "name": "python",
   "nbconvert_exporter": "python",
   "pygments_lexer": "ipython2",
   "version": "2.7.6"
  }
 },
 "nbformat": 4,
 "nbformat_minor": 5
}
