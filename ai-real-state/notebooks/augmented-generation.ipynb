{
 "cells": [
  {
   "cell_type": "code",
   "id": "initial_id",
   "metadata": {
    "collapsed": true,
    "ExecuteTime": {
     "end_time": "2025-02-11T23:52:37.034579Z",
     "start_time": "2025-02-11T23:52:36.959510Z"
    }
   },
   "source": [
    "import getpass\n",
    "from langchain_openai import ChatOpenAI\n",
    "from langchain_openai import OpenAIEmbeddings\n",
    "from dotenv import load_dotenv\n",
    "import os\n",
    "load_dotenv()\n",
    "os.environ[\"LANGSMITH_PROJECT\"] = \"data-txt-test\"\n",
    "\n",
    "if not os.environ.get(\"OPENAI_API_KEY\"):\n",
    "  os.environ[\"OPENAI_API_KEY\"] = getpass.getpass(\"Enter API key for OpenAI: \")\n",
    "\n",
    "model = \"gpt-3.5-turbo\"\n",
    "\n",
    "llm = ChatOpenAI(temperature=0.5, model=model, max_tokens=4096)\n",
    "embeddings = OpenAIEmbeddings(model=\"text-embedding-3-small\")"
   ],
   "outputs": [],
   "execution_count": 12
  },
  {
   "metadata": {
    "ExecuteTime": {
     "end_time": "2025-02-11T23:59:18.071260Z",
     "start_time": "2025-02-11T23:59:17.860527Z"
    }
   },
   "cell_type": "code",
   "source": [
    "from langchain_chroma import Chroma\n",
    "import chromadb\n",
    "chroma_client = chromadb.HttpClient(host='localhost', port=8000)\n",
    "print(chroma_client.heartbeat())\n",
    "\n",
    "vector_store = Chroma(\n",
    "    collection_name=\"real-state\",\n",
    "    embedding_function=embeddings,\n",
    "    client=chroma_client\n",
    ")"
   ],
   "id": "8739e72268b30014",
   "outputs": [
    {
     "name": "stdout",
     "output_type": "stream",
     "text": [
      "1739318358054658000\n"
     ]
    }
   ],
   "execution_count": 24
  },
  {
   "metadata": {
    "ExecuteTime": {
     "end_time": "2025-02-12T00:04:08.101892Z",
     "start_time": "2025-02-12T00:04:07.424560Z"
    }
   },
   "cell_type": "code",
   "source": [
    "results = vector_store.similarity_search_by_vector(\n",
    "    embedding=embeddings.embed_query(\"proyecto a\"), k=1\n",
    ")\n",
    "print(results)"
   ],
   "id": "8586a9b600e07c24",
   "outputs": [
    {
     "name": "stdout",
     "output_type": "stream",
     "text": [
      "[]\n"
     ]
    }
   ],
   "execution_count": 29
  },
  {
   "metadata": {},
   "cell_type": "markdown",
   "source": "## Retriever",
   "id": "2cec90dcffb0d6eb"
  },
  {
   "metadata": {
    "ExecuteTime": {
     "end_time": "2025-02-12T00:04:17.680646Z",
     "start_time": "2025-02-12T00:04:17.676727Z"
    }
   },
   "cell_type": "code",
   "source": "retriever = vector_store.as_retriever()\n",
   "id": "9b52887bf686a9dc",
   "outputs": [],
   "execution_count": 30
  },
  {
   "metadata": {},
   "cell_type": "markdown",
   "source": "## Prompt template",
   "id": "190cd1724da664ce"
  },
  {
   "metadata": {
    "ExecuteTime": {
     "end_time": "2025-02-11T23:52:37.177955Z",
     "start_time": "2025-02-11T23:52:37.171327Z"
    }
   },
   "cell_type": "code",
   "source": [
    "from langchain_core.prompts import ChatPromptTemplate, MessagesPlaceholder\n",
    "\n",
    "template = \"\"\"Responde las siguientes preguntas con base en los siguientes contexto:\n",
    "Eres un asistente virtual especializado en una agencia inmobiliaria. Tu tarea es proporcionar información precisa y útil sobre los proyectos inmobiliarios disponibles. Utiliza únicamente la información proporcionada en los documentos para responder.\n",
    "\n",
    "Proyectos disponibles:\n",
    "1. **Proyecto A**: Residencial \"Bosque Verde\"\n",
    "2. **Proyecto B**: Comercial \"Plaza Sol\"\n",
    "3. **Proyecto C**: Residencial de lujo \"Altos del Mar\"\n",
    "\n",
    "Instrucciones:\n",
    "- Responde de manera clara y concisa.\n",
    "- Si no tienes información suficiente, indica que no cuentas con los detalles necesarios.\n",
    "- Prioriza la información sobre ubicación, precios, características y disponibilidad.\n",
    "- El año actual es 2025.\n",
    "\n",
    "{context}\n",
    "\"\"\"\n",
    "prompt_template = ChatPromptTemplate([\n",
    "    (\"system\", template),\n",
    "    (\"user\", \"{question}\")\n",
    "])"
   ],
   "id": "1f69c518623844fd",
   "outputs": [],
   "execution_count": 15
  },
  {
   "metadata": {},
   "cell_type": "markdown",
   "source": "## RAG Chain",
   "id": "cb3d72f6b243a9a9"
  },
  {
   "metadata": {
    "ExecuteTime": {
     "end_time": "2025-02-11T23:52:37.245041Z",
     "start_time": "2025-02-11T23:52:37.239895Z"
    }
   },
   "cell_type": "code",
   "source": [
    "from langchain_core.runnables import RunnablePassthrough\n",
    "from langchain_core.output_parsers import StrOutputParser\n",
    "\n",
    "rag_chain = (\n",
    "    {\"context\": retriever, \"question\": RunnablePassthrough()}\n",
    "    | prompt_template\n",
    "    | llm\n",
    "    | StrOutputParser()\n",
    ")"
   ],
   "id": "9aedd97d5dbfcada",
   "outputs": [],
   "execution_count": 16
  },
  {
   "metadata": {
    "ExecuteTime": {
     "end_time": "2025-02-11T23:52:38.115264Z",
     "start_time": "2025-02-11T23:52:37.279432Z"
    }
   },
   "cell_type": "code",
   "source": [
    "response = rag_chain.invoke(\"dame precios?\")\n",
    "print(response)"
   ],
   "id": "ad66716817840325",
   "outputs": [
    {
     "name": "stdout",
     "output_type": "stream",
     "text": [
      "Claro, ¿sobre cuál proyecto te gustaría saber los precios?\n"
     ]
    }
   ],
   "execution_count": 17
  },
  {
   "metadata": {},
   "cell_type": "markdown",
   "source": "## RAG Graph",
   "id": "cc46dfd7d38e8335"
  },
  {
   "metadata": {
    "ExecuteTime": {
     "end_time": "2025-02-11T23:52:38.133207Z",
     "start_time": "2025-02-11T23:52:38.122403Z"
    }
   },
   "cell_type": "code",
   "source": [
    "from langchain_core.documents import Document\n",
    "from langgraph.graph import START, StateGraph\n",
    "from typing_extensions import List, TypedDict\n",
    "class State(TypedDict):\n",
    "    question: str\n",
    "    context: List[Document]\n",
    "    answer: str\n",
    "\n",
    "\n",
    "# Define application steps\n",
    "def retrieve(state: State):\n",
    "    retrieved_docs = vector_store.similarity_search(state[\"question\"],k=3)\n",
    "    return {\"context\": retrieved_docs}\n",
    "\n",
    "\n",
    "def generate(state: State):\n",
    "    docs_content = \"\\n\\n\".join(doc.page_content for doc in state[\"context\"])\n",
    "    messages = prompt_template.invoke({\"question\": state[\"question\"], \"context\": docs_content})\n",
    "    response = llm.invoke(messages)\n",
    "    return {\"answer\": response.content}\n",
    "\n",
    "graph_builder = StateGraph(State).add_sequence([retrieve, generate])\n",
    "graph_builder.add_edge(START, \"retrieve\")\n",
    "graph = graph_builder.compile()"
   ],
   "id": "8605b2ca2d27948f",
   "outputs": [],
   "execution_count": 18
  },
  {
   "metadata": {
    "ExecuteTime": {
     "end_time": "2025-02-11T23:52:40.440208Z",
     "start_time": "2025-02-11T23:52:38.169338Z"
    }
   },
   "cell_type": "code",
   "source": [
    "response = graph.invoke({\"question\": \"estoy interesado en comprar un apartamento y tengo un presupuesto de 1.200.000 usd y a la misma vez, estoy pensando en algun local comercial, que podria hacer?, dame precios y especificaciones de los inmuebles\"})\n",
    "print(response[\"answer\"])"
   ],
   "id": "c256a67f028064c7",
   "outputs": [
    {
     "name": "stdout",
     "output_type": "stream",
     "text": [
      "Para tu presupuesto de 1.200.000 USD, te recomendaría considerar el **Proyecto C: Residencial de lujo \"Altos del Mar\"**. En este proyecto, actualmente hay disponibles apartamentos de 3 habitaciones con vista al mar, amplias terrazas, acabados de lujo y servicios exclusivos como gimnasio, piscina y seguridad las 24 horas. Los precios de los apartamentos en este proyecto oscilan entre 900.000 USD y 1.500.000 USD, dependiendo de la ubicación y tamaño del apartamento.\n",
      "\n",
      "En cuanto a la opción de un local comercial, te recomendaría considerar el **Proyecto B: Comercial \"Plaza Sol\"**. En este proyecto, hay locales comerciales disponibles con excelente ubicación en una zona de alto tráfico, perfectos para negocios como restaurantes, tiendas o servicios. Los precios de los locales comerciales en este proyecto varían entre 800.000 USD y 1.200.000 USD, dependiendo del tamaño y la ubicación del local.\n",
      "\n",
      "Si deseas más detalles sobre algún proyecto en particular, por favor házmelo saber.\n"
     ]
    }
   ],
   "execution_count": 19
  },
  {
   "metadata": {
    "ExecuteTime": {
     "end_time": "2025-02-11T23:52:40.700794Z",
     "start_time": "2025-02-11T23:52:40.464048Z"
    }
   },
   "cell_type": "code",
   "source": [
    "retrieved_docs = vector_store.similarity_search(\"estoy interesado en comprar un apartamento y tengo un presupuesto de 1.200.000 usd y a la misma vez, estoy pensando en algun local comercial, que podria hacer?, dame precios y especificaciones de los inmuebles\",k=3)\n",
    "print(retrieved_docs)"
   ],
   "id": "81e741c56ff16b71",
   "outputs": [
    {
     "name": "stdout",
     "output_type": "stream",
     "text": [
      "[]\n"
     ]
    }
   ],
   "execution_count": 20
  }
 ],
 "metadata": {
  "kernelspec": {
   "display_name": "Python 3",
   "language": "python",
   "name": "python3"
  },
  "language_info": {
   "codemirror_mode": {
    "name": "ipython",
    "version": 2
   },
   "file_extension": ".py",
   "mimetype": "text/x-python",
   "name": "python",
   "nbconvert_exporter": "python",
   "pygments_lexer": "ipython2",
   "version": "2.7.6"
  }
 },
 "nbformat": 4,
 "nbformat_minor": 5
}
