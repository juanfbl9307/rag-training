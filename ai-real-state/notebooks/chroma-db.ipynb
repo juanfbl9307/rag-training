{
 "cells": [
  {
   "metadata": {
    "ExecuteTime": {
     "end_time": "2025-02-09T22:35:33.861342Z",
     "start_time": "2025-02-09T22:35:33.858754Z"
    }
   },
   "cell_type": "code",
   "source": "",
   "id": "fc8aa1493a93084f",
   "outputs": [],
   "execution_count": null
  },
  {
   "metadata": {
    "ExecuteTime": {
     "end_time": "2025-02-09T22:37:16.192558Z",
     "start_time": "2025-02-09T22:37:15.056646Z"
    }
   },
   "cell_type": "code",
   "source": [
    "import chromadb\n",
    "from langchain_openai import OpenAIEmbeddings\n",
    "\n",
    "client = chromadb.PersistentClient(path=\"./chroma_langchain_db_ai\")\n",
    "embedding = OpenAIEmbeddings(model=\"text-embedding-3-small\")\n",
    "\n",
    "collection = client.get_collection(name=\"llm-rag-ai\") # Get a collection object from an existing collection, by name. Will raise an exception if it's not found.\n",
    "embedding1 = embedding.embed_query(\"i like dogs\")\n",
    "embedding2 = embedding.embed_query(\"i like canines\")\n",
    "import numpy as np\n",
    "\n",
    "print(np.dot(embedding1, embedding2))\n",
    "print(collection.count())"
   ],
   "id": "f2ebd8a26225efeb",
   "outputs": [
    {
     "name": "stdout",
     "output_type": "stream",
     "text": [
      "0.8338733783396004\n",
      "0\n"
     ]
    }
   ],
   "execution_count": 34
  },
  {
   "metadata": {
    "ExecuteTime": {
     "end_time": "2025-02-09T22:38:14.683608Z",
     "start_time": "2025-02-09T22:38:14.150698Z"
    }
   },
   "cell_type": "code",
   "source": [
    "from langchain_chroma import Chroma\n",
    "\n",
    "vector_store = Chroma(\n",
    "    collection_name=\"real-state\",\n",
    "    embedding_function=embedding,\n",
    "    persist_directory=\"./chroma_langchain_db_txt\",  # Where to save data locally, remove if not necessary\n",
    ")\n",
    "question = \"proyecto A\"\n",
    "docs = vector_store.similarity_search(question)\n",
    "print(docs)"
   ],
   "id": "2b7491d8a4f9ce9a",
   "outputs": [
    {
     "name": "stdout",
     "output_type": "stream",
     "text": [
      "[]\n"
     ]
    }
   ],
   "execution_count": 36
  }
 ],
 "metadata": {
  "kernelspec": {
   "name": "python3",
   "language": "python",
   "display_name": "Python 3 (ipykernel)"
  }
 },
 "nbformat": 5,
 "nbformat_minor": 9
}
