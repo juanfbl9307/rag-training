{
 "cells": [
  {
   "cell_type": "code",
   "id": "initial_id",
   "metadata": {
    "collapsed": true,
    "ExecuteTime": {
     "end_time": "2025-02-12T00:07:33.271178Z",
     "start_time": "2025-02-12T00:07:33.150305Z"
    }
   },
   "source": [
    "from langchain_chroma import Chroma\n",
    "from langchain_openai import OpenAIEmbeddings\n",
    "from dotenv import load_dotenv\n",
    "import os\n",
    "import chromadb\n",
    "\n",
    "load_dotenv()\n",
    "os.environ[\"LANGSMITH_PROJECT\"] = \"data-chunking-txt\"\n",
    "embeddings = OpenAIEmbeddings(model=\"text-embedding-3-small\")\n",
    "chroma_client = chromadb.HttpClient(host='localhost', port=8000)\n",
    "print(chroma_client.heartbeat())\n",
    "\n",
    "vector_store = Chroma(\n",
    "    collection_name=\"real-state\",\n",
    "    embedding_function=embeddings,\n",
    "    client=chroma_client\n",
    ")"
   ],
   "outputs": [
    {
     "name": "stdout",
     "output_type": "stream",
     "text": [
      "1739318853256904350\n"
     ]
    }
   ],
   "execution_count": 19
  },
  {
   "metadata": {
    "ExecuteTime": {
     "end_time": "2025-02-12T00:09:54.904930Z",
     "start_time": "2025-02-12T00:09:53.199230Z"
    }
   },
   "cell_type": "code",
   "source": [
    "from langchain.text_splitter import RecursiveCharacterTextSplitter\n",
    "from langchain.document_loaders import TextLoader\n",
    "\n",
    "loader = TextLoader(\"../data/real-state/proyectos.txt\")  # Reemplaza con la ruta de tu archivo\n",
    "documents = loader.load()\n",
    "\n",
    "text_splitter = RecursiveCharacterTextSplitter(\n",
    "    chunk_size=100,  # Tamaño de cada chunk (en caracteres)\n",
    "    chunk_overlap=20,  # Superposición entre chunks\n",
    "    length_function=len,  # Función para calcular la longitud del texto\n",
    ")\n",
    "chunks = text_splitter.split_documents(documents)\n",
    "\n",
    "# 4. Almacenar los embeddings en una base de datos vectorial (FAISS en este caso)\n",
    "vector_db = vector_store.from_documents(chunks, embeddings)\n",
    "vector_store.add_documents(chunks)"
   ],
   "id": "4e04127bda54bdc3",
   "outputs": [
    {
     "data": {
      "text/plain": [
       "['dde02031-2da8-405e-b52f-8e9837d7b35a',\n",
       " 'd7d2e190-709e-47ce-9bcf-c852152d9c82',\n",
       " '7f331f82-0008-4921-a0a1-361ede744c7c',\n",
       " 'c1f0561e-ce79-4869-bab6-96ef06d504b4',\n",
       " '80620b62-de99-46d0-a2ab-783e50b7d9cb',\n",
       " '15bcf299-5464-404b-af1f-b6ba8da930f3',\n",
       " '4a486572-21f5-4235-b41c-c264323d706e',\n",
       " '3395d74a-7f46-4c7e-89dd-352a2700c370',\n",
       " 'fea786b5-b2f6-4fb2-acc3-3cea0d5e5bc9',\n",
       " '6e9b9c45-d41d-481e-a3ce-1138b9145b1f',\n",
       " 'b6885fa3-8c55-4684-9668-9baefafe7da3',\n",
       " '6a0a398a-0090-4de0-acd8-9ff699ee59b4',\n",
       " '4725a401-1807-4860-9a02-9f6ed8fe40d2',\n",
       " '6f5d47b9-4fd3-45b5-8684-ca791bad6529',\n",
       " 'ad04931d-8b26-4bb1-bf70-915910ff2721',\n",
       " 'b2bf7897-2f77-4c39-b0ce-3f5742cbf210',\n",
       " 'ef78a695-5d23-4e1c-b81b-eb06868787e0',\n",
       " '15627b1c-dc2d-462f-8678-93de77e98d06',\n",
       " 'faa5f38c-e8c1-4345-8fc4-6fc31ce073e3',\n",
       " '63ba6e9e-bb25-403f-b295-9685da4b730e',\n",
       " '04589954-f657-41e2-8eb3-8992531c432d',\n",
       " 'ae72fb7e-9c72-4b6c-94ef-0d35364c7578',\n",
       " '8541c1ac-d63a-4e3c-80e6-8de7cec5f541',\n",
       " 'be52672f-aa06-4436-9f28-38f080fe46a6',\n",
       " 'fcf96662-f71b-445a-b501-f9ff6846e37c',\n",
       " 'bb4cb96d-72de-4cbf-aa66-a065848270c3',\n",
       " '63be0dc0-f89c-4037-9f99-37c703c49e3b',\n",
       " '2dfe6408-1e6b-47fe-8205-e79e2ff1222e']"
      ]
     },
     "execution_count": 27,
     "metadata": {},
     "output_type": "execute_result"
    }
   ],
   "execution_count": 27
  },
  {
   "metadata": {
    "ExecuteTime": {
     "end_time": "2025-02-12T00:07:34.972846Z",
     "start_time": "2025-02-12T00:07:34.508765Z"
    }
   },
   "cell_type": "code",
   "source": [
    "query = \"Altos del Mar\"\n",
    "docs = vector_db.similarity_search(query)\n",
    "print(docs[0].page_content)"
   ],
   "id": "e79e34db5b3032d7",
   "outputs": [
    {
     "name": "stdout",
     "output_type": "stream",
     "text": [
      "Proyecto C: Residencial de lujo \"Altos del Mar\"\n"
     ]
    }
   ],
   "execution_count": 21
  },
  {
   "metadata": {
    "ExecuteTime": {
     "end_time": "2025-02-12T00:09:58.852955Z",
     "start_time": "2025-02-12T00:09:58.460348Z"
    }
   },
   "cell_type": "code",
   "source": [
    "query = \"Altos del Mar\"\n",
    "docs = vector_store.similarity_search(query)\n",
    "print(docs)"
   ],
   "id": "f1366ecd3dc0c609",
   "outputs": [
    {
     "name": "stdout",
     "output_type": "stream",
     "text": [
      "[Document(id='faa5f38c-e8c1-4345-8fc4-6fc31ce073e3', metadata={'source': '../data/real-state/proyectos.txt'}, page_content='Proyecto C: Residencial de lujo \"Altos del Mar\"'), Document(id='ae72fb7e-9c72-4b6c-94ef-0d35364c7578', metadata={'source': '../data/real-state/proyectos.txt'}, page_content='- Descripción: Edificio de 20 pisos con departamentos de 3 y 4 habitaciones, vista al mar,'), Document(id='8541c1ac-d63a-4e3c-80e6-8de7cec5f541', metadata={'source': '../data/real-state/proyectos.txt'}, page_content='vista al mar, amenities de lujo como spa, piscina infinita, gimnasio de última generación y'), Document(id='63be0dc0-f89c-4037-9f99-37c703c49e3b', metadata={'source': '../data/real-state/proyectos.txt'}, page_content='- Disponibilidad: 60% vendido. Últimas unidades con vista al mar disponibles.')]\n"
     ]
    }
   ],
   "execution_count": 28
  }
 ],
 "metadata": {
  "kernelspec": {
   "display_name": "Python 3",
   "language": "python",
   "name": "python3"
  },
  "language_info": {
   "codemirror_mode": {
    "name": "ipython",
    "version": 2
   },
   "file_extension": ".py",
   "mimetype": "text/x-python",
   "name": "python",
   "nbconvert_exporter": "python",
   "pygments_lexer": "ipython2",
   "version": "2.7.6"
  }
 },
 "nbformat": 4,
 "nbformat_minor": 5
}
