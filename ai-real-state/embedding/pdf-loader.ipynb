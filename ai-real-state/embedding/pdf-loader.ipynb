{
 "cells": [
  {
   "metadata": {},
   "cell_type": "markdown",
   "source": [
    "# PDF AI\n",
    "The objective of this is to test how to embedd data from pdf"
   ],
   "id": "28aeccdd0b1993eb"
  },
  {
   "cell_type": "code",
   "id": "initial_id",
   "metadata": {
    "collapsed": true,
    "ExecuteTime": {
     "end_time": "2025-02-12T00:55:13.724337Z",
     "start_time": "2025-02-12T00:55:13.264558Z"
    }
   },
   "source": [
    "import os\n",
    "from langchain_chroma import Chroma\n",
    "from langchain_openai import OpenAIEmbeddings\n",
    "import chromadb\n",
    "os.environ[\"LANGSMITH_PROJECT\"] = \"data-chunking-pdf\"\n",
    "embeddings = OpenAIEmbeddings(model=\"text-embedding-3-large\")\n",
    "chroma_client = chromadb.HttpClient(host='localhost', port=8000)\n",
    "\n",
    "data = \"immunology\"\n",
    "\n",
    "vector_store = Chroma(\n",
    "    collection_name=data,\n",
    "    embedding_function=embeddings,\n",
    "    client=chroma_client\n",
    ")\n",
    "file_path = (\n",
    "    f'../data/{data}'\n",
    ")\n",
    "files_pdf = []\n",
    "for file in os.listdir(file_path):\n",
    "    if file.endswith(\".pdf\"):\n",
    "        files_pdf.append(os.path.join(file_path, file))"
   ],
   "outputs": [],
   "execution_count": 5
  },
  {
   "metadata": {
    "ExecuteTime": {
     "end_time": "2025-02-12T00:58:03.414118Z",
     "start_time": "2025-02-12T00:55:13.740158Z"
    }
   },
   "cell_type": "code",
   "source": [
    "from langchain_community.document_loaders import PyPDFLoader\n",
    "from langchain_text_splitters import RecursiveCharacterTextSplitter\n",
    "for file in files_pdf:\n",
    "    loader = PyPDFLoader(file)\n",
    "    document = loader.load()\n",
    "    text_splitter = RecursiveCharacterTextSplitter(chunk_size=1000, chunk_overlap=200)\n",
    "    chunked_documents = text_splitter.split_documents(document)\n",
    "    vector_store.add_documents(chunked_documents)\n",
    "    print(f\"Added {len(chunked_documents)} chunks to chroma db\")"
   ],
   "id": "4e04127bda54bdc3",
   "outputs": [
    {
     "name": "stdout",
     "output_type": "stream",
     "text": [
      "Added 3132 chunks to chroma db\n"
     ]
    },
    {
     "name": "stderr",
     "output_type": "stream",
     "text": [
      "Ignoring wrong pointing object 50 0 (offset 0)\n",
      "Ignoring wrong pointing object 69 0 (offset 0)\n",
      "Ignoring wrong pointing object 109 0 (offset 0)\n",
      "Ignoring wrong pointing object 300 0 (offset 0)\n",
      "Ignoring wrong pointing object 572 0 (offset 0)\n",
      "Ignoring wrong pointing object 1134 0 (offset 0)\n",
      "Ignoring wrong pointing object 1933 0 (offset 0)\n",
      "Ignoring wrong pointing object 3398 0 (offset 0)\n",
      "Ignoring wrong pointing object 4281 0 (offset 0)\n",
      "Ignoring wrong pointing object 4516 0 (offset 0)\n",
      "Ignoring wrong pointing object 5354 0 (offset 0)\n",
      "Ignoring wrong pointing object 8740 0 (offset 0)\n",
      "Ignoring wrong pointing object 8772 0 (offset 0)\n",
      "Ignoring wrong pointing object 8807 0 (offset 0)\n",
      "Ignoring wrong pointing object 9380 0 (offset 0)\n"
     ]
    },
    {
     "name": "stdout",
     "output_type": "stream",
     "text": [
      "Added 1246 chunks to chroma db\n",
      "Added 2039 chunks to chroma db\n",
      "Added 32 chunks to chroma db\n"
     ]
    }
   ],
   "execution_count": 6
  }
 ],
 "metadata": {
  "kernelspec": {
   "display_name": "Python 3",
   "language": "python",
   "name": "python3"
  },
  "language_info": {
   "codemirror_mode": {
    "name": "ipython",
    "version": 2
   },
   "file_extension": ".py",
   "mimetype": "text/x-python",
   "name": "python",
   "nbconvert_exporter": "python",
   "pygments_lexer": "ipython2",
   "version": "2.7.6"
  }
 },
 "nbformat": 4,
 "nbformat_minor": 5
}
