{
 "cells": [
  {
   "metadata": {},
   "cell_type": "markdown",
   "source": [
    "# PDF AI\n",
    "The objective of this is to test how to embedd data from pdf"
   ],
   "id": "28aeccdd0b1993eb"
  },
  {
   "cell_type": "code",
   "id": "initial_id",
   "metadata": {
    "collapsed": true,
    "ExecuteTime": {
     "end_time": "2025-04-15T01:04:49.752281Z",
     "start_time": "2025-04-15T01:04:49.560254Z"
    }
   },
   "source": [
    "import os\n",
    "from langchain_chroma import Chroma\n",
    "from langchain_openai import OpenAIEmbeddings\n",
    "import chromadb\n",
    "os.environ[\"LANGSMITH_PROJECT\"] = \"data-chunking-pdf\"\n",
    "embeddings = OpenAIEmbeddings(model=\"text-embedding-3-large\")\n",
    "chroma_client = chromadb.HttpClient(host='localhost', port=8000)\n",
    "\n",
    "data = \"user-manual\"\n",
    "collection_name = \"user-manual\"\n",
    "\n",
    "vector_store = Chroma(\n",
    "    collection_name=collection_name,\n",
    "    embedding_function=embeddings,\n",
    "    client=chroma_client\n",
    ")\n",
    "file_path = (\n",
    "    f'../data/{data}'\n",
    ")\n",
    "files_pdf = []\n",
    "for file in os.listdir(file_path):\n",
    "    if file.endswith(\".pdf\"):\n",
    "        files_pdf.append(os.path.join(file_path, file))"
   ],
   "outputs": [],
   "execution_count": 5
  },
  {
   "metadata": {
    "ExecuteTime": {
     "end_time": "2025-04-15T01:05:10.703196Z",
     "start_time": "2025-04-15T01:04:49.756497Z"
    }
   },
   "cell_type": "code",
   "source": [
    "from langchain_community.document_loaders import PyPDFLoader\n",
    "from langchain_text_splitters import RecursiveCharacterTextSplitter\n",
    "for file in files_pdf:\n",
    "    loader = PyPDFLoader(file)\n",
    "    document = loader.load()\n",
    "    text_splitter = RecursiveCharacterTextSplitter(chunk_size=1000, chunk_overlap=200)\n",
    "    chunked_documents = text_splitter.split_documents(document)\n",
    "    vector_store.add_documents(chunked_documents)\n",
    "\n",
    "    print(f\"Added {len(chunked_documents)} chunks to chroma db\")"
   ],
   "id": "4e04127bda54bdc3",
   "outputs": [
    {
     "name": "stdout",
     "output_type": "stream",
     "text": [
      "Added 1311 chunks to chroma db\n"
     ]
    }
   ],
   "execution_count": 6
  },
  {
   "metadata": {
    "ExecuteTime": {
     "end_time": "2025-04-15T01:05:11.232731Z",
     "start_time": "2025-04-15T01:05:10.711867Z"
    }
   },
   "cell_type": "code",
   "source": "vector_store.similarity_search(\"rag\")",
   "id": "c44317afeaba6614",
   "outputs": [
    {
     "data": {
      "text/plain": [
       "[Document(id='e9e37f89-9644-4f2d-aa59-5259b1e758a4', metadata={'creationdate': '2021-04-14T12:50:24+00:00', 'creator': 'AH XSL Formatter V6.6 MR11 for Windows (x64) : 6.6.13.42545 (2020-02-03T11:23+09)', 'moddate': '2021-06-22T12:41:11+00:00', 'page': 383, 'page_label': '384', 'producer': 'Antenna House PDF Output Library 6.6.1548 (Windows (x64))', 'source': '../data/user-manual/CUPRA_FORMENTOR_06_21_EN.pdf', 'title': \"CUPRA Formentor Owner's Manual\", 'total_pages': 391, 'trapped': '/false'}, page_content='frequency bands . . . . . . . . . . . . . . . . . . . . . . . . 187\\npreset buttons . . . . . . . . . . . . . . . . . . . . . . . . . . 187\\nsymbols . . . . . . . . . . . . . . . . . . . . . . . . . . . . . . . . 187\\nTraffic information (TP) . . . . . . . . . . . . . . . . . 188\\ntune station . . . . . . . . . . . . . . . . . . . . . . . . . . . . 187\\nRadio-operated remote control\\nsee Keys . . . . . . . . . . . . . . . . . . . . . . . . . . . . . . . . 92\\nRadio mode . . . . . . . . . . . . . . . . . . . . . . . . . . . . . . 186\\nRadio screen: clean . . . . . . . . . . . . . . . . . . . . . . . 356\\nRadio telephones . . . . . . . . . . . . . . . . . . . . . . . . . 359\\nRain sensor . . . . . . . . . . . . . . . . . . . . . . . . . . . . . . 124\\nfunction control . . . . . . . . . . . . . . . . . . . . . . . . 125\\nRaise the vehicle . . . . . . . . . . . . . . . . . . . . . . . . . . 48\\nRCT A . . . . . . . . . . . . . . . . . . . . . . . . . . . . . . . . . . . . 261'),\n",
       " Document(id='c1544081-4a77-4dc9-ba2a-7ac3d7ea3765', metadata={'creationdate': '2021-04-14T12:50:24+00:00', 'creator': 'AH XSL Formatter V6.6 MR11 for Windows (x64) : 6.6.13.42545 (2020-02-03T11:23+09)', 'moddate': '2021-06-22T12:41:11+00:00', 'page': 383, 'page_label': '384', 'producer': 'Antenna House PDF Output Library 6.6.1548 (Windows (x64))', 'source': '../data/user-manual/CUPRA_FORMENTOR_06_21_EN.pdf', 'title': \"CUPRA Formentor Owner's Manual\", 'total_pages': 391, 'trapped': '/false'}, page_content='Raise the vehicle . . . . . . . . . . . . . . . . . . . . . . . . . . 48\\nRCT A . . . . . . . . . . . . . . . . . . . . . . . . . . . . . . . . . . . . 261\\nsee Rear cross traffic alert (RCT A) . . . . . . . . 258\\nRear cross traffic alert (RCT A) . . . . . . . . . 258, 261\\ncontrol lamp . . . . . . . . . . . . . . . . . . . . . . . . . . . 259\\nRear fog light\\ncontrol lamp . . . . . . . . . . . . . . . . . . . . . . . . . . . . 114\\nRear lid . . . . . . . . . . . . . . . . . . . . . . . . . . . . . . 106, 110\\nsee also Luggage compartment . . . . . . . . . 107\\nRear mounting\\ntowing device . . . . . . . . . . . . . . . . . . . . . . . . . . 300\\nRear parking aid . . . . . . . . . . . . . . . . . . . . . . . . . . 285\\nRear seat\\nfold down with the remote unlocking lever . 133\\nRear Traffic Alert . . . . . . . . . . . . . . . . . . . . . . . . . . 261\\nRear View Camera . . . . . . . . . . . . . . . . . . . . . . . . 288\\nRear window wiper . . . . . . . . . . . . . . . . . . . . . . . . 123\\nRefuelling'),\n",
       " Document(id='9a81cbb2-fd84-4f2b-bb69-820dc28867ba', metadata={'creationdate': '2021-04-14T12:50:24+00:00', 'creator': 'AH XSL Formatter V6.6 MR11 for Windows (x64) : 6.6.13.42545 (2020-02-03T11:23+09)', 'moddate': '2021-06-22T12:41:11+00:00', 'page': 262, 'page_label': '263', 'producer': 'Antenna House PDF Output Library 6.6.1548 (Windows (x64))', 'source': '../data/user-manual/CUPRA_FORMENTOR_06_21_EN.pdf', 'title': \"CUPRA Formentor Owner's Manual\", 'total_pages': 391, 'trapped': '/false'}, page_content='side of the vehicle, e.g., high or irregular di-\\nviders.\\nRear cross traffic alert (RCTA)\\nFig. 172 Schematic representation of the\\nrear cross traffic alert assistant: zone moni-\\ntored around the vehicle while leaving a\\nparking space.\\nPark Assist uses the radar sensors on the rear\\nbumper ››› page 233  to monitor the traffic\\ncrossing behind the vehicle as it backs out of\\na parallel parking space or as it is being man-\\noeuvred, for example in very low visibility\\nconditions.\\nWhen the system detects a relevant vehicle\\non the road that is approaching the rear of\\nthe vehicle ››› Fig. 172 , an acoustic alarm\\nmay sound if the relevance so requires it.\\nIn addition to the acoustic alarm, the driver is\\nalso informed by means of a visual signal on\\ninfotainment system display. This signal is\\ndisplayed in the form of a red or yellow strip\\nat the back of the image of the vehicle on\\nthe infotainment system screen. This strip\\ndisplays the side of the vehicle towards which'),\n",
       " Document(id='77c7186b-4450-42a5-a01e-ecd1c33a9337', metadata={'creationdate': '2021-04-14T12:50:24+00:00', 'creator': 'AH XSL Formatter V6.6 MR11 for Windows (x64) : 6.6.13.42545 (2020-02-03T11:23+09)', 'moddate': '2021-06-22T12:41:11+00:00', 'page': 383, 'page_label': '384', 'producer': 'Antenna House PDF Output Library 6.6.1548 (Windows (x64))', 'source': '../data/user-manual/CUPRA_FORMENTOR_06_21_EN.pdf', 'title': \"CUPRA Formentor Owner's Manual\", 'total_pages': 391, 'trapped': '/false'}, page_content='Preheat the engine . . . . . . . . . . . . . . . . . . . . . . . 208\\nPress & Drive\\nstart button . . . . . . . . . . . . . . . . . . . . . . . . . . . . 207\\nstarting the engine . . . . . . . . . . . . . . . . . . . . . 208\\nProactive speed adjustment . . . . . . . . . . . . . . 250\\nactivation . . . . . . . . . . . . . . . . . . . . . . . . . . . . . . 251\\ndriving . . . . . . . . . . . . . . . . . . . . . . . . . . . . . . . . . 251\\nlimitations . . . . . . . . . . . . . . . . . . . . . . . . . . . . . 250\\nproblems and solutions . . . . . . . . . . . . . . . . . 251\\nR\\nRadar sensors . . . . . . . . . . . . . . . . . . . . . . . . . . . . 233\\nRadio . . . . . . . . . . . . . . . . . . . . . . . . . . . . . . . . . . . . 186\\nequipment . . . . . . . . . . . . . . . . . . . . . . . . . . . . . 187\\nfrequency bands . . . . . . . . . . . . . . . . . . . . . . . . 187\\npreset buttons . . . . . . . . . . . . . . . . . . . . . . . . . . 187')]"
      ]
     },
     "execution_count": 7,
     "metadata": {},
     "output_type": "execute_result"
    }
   ],
   "execution_count": 7
  }
 ],
 "metadata": {
  "kernelspec": {
   "display_name": "Python 3",
   "language": "python",
   "name": "python3"
  },
  "language_info": {
   "codemirror_mode": {
    "name": "ipython",
    "version": 2
   },
   "file_extension": ".py",
   "mimetype": "text/x-python",
   "name": "python",
   "nbconvert_exporter": "python",
   "pygments_lexer": "ipython2",
   "version": "2.7.6"
  }
 },
 "nbformat": 4,
 "nbformat_minor": 5
}
