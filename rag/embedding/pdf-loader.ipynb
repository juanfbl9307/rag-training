{
 "cells": [
  {
   "metadata": {},
   "cell_type": "markdown",
   "source": [
    "# PDF AI\n",
    "The objective of this is to test how to embedd data from pdf"
   ],
   "id": "28aeccdd0b1993eb"
  },
  {
   "cell_type": "code",
   "id": "initial_id",
   "metadata": {
    "collapsed": true
   },
   "source": [
    "import os\n",
    "from langchain_chroma import Chroma\n",
    "from langchain_openai import OpenAIEmbeddings\n",
    "import chromadb\n",
    "os.environ[\"LANGSMITH_PROJECT\"] = \"data-chunking-pdf\"\n",
    "embeddings = OpenAIEmbeddings(model=\"text-embedding-3-large\")\n",
    "chroma_client = chromadb.HttpClient(host='localhost', port=8000)\n",
    "\n",
    "data = \"user-manual\"\n",
    "collection_name = \"user-manual\"\n",
    "\n",
    "vector_store = Chroma(\n",
    "    collection_name=collection_name,\n",
    "    embedding_function=embeddings,\n",
    "    client=chroma_client\n",
    ")\n",
    "file_path = (\n",
    "    f'../data/{data}'\n",
    ")\n",
    "files_pdf = []\n",
    "for file in os.listdir(file_path):\n",
    "    if file.endswith(\".pdf\"):\n",
    "        files_pdf.append(os.path.join(file_path, file))"
   ],
   "outputs": [],
   "execution_count": null
  },
  {
   "metadata": {},
   "cell_type": "code",
   "source": [
    "from langchain_community.document_loaders import PyPDFLoader\n",
    "from langchain_text_splitters import RecursiveCharacterTextSplitter\n",
    "for file in files_pdf:\n",
    "    loader = PyPDFLoader(file)\n",
    "    document = loader.load()\n",
    "    text_splitter = RecursiveCharacterTextSplitter(chunk_size=1000, chunk_overlap=200)\n",
    "    chunked_documents = text_splitter.split_documents(document)\n",
    "    vector_store.add_documents(chunked_documents)\n",
    "\n",
    "    print(f\"Added {len(chunked_documents)} chunks to chroma db\")"
   ],
   "id": "4e04127bda54bdc3",
   "outputs": [],
   "execution_count": null
  },
  {
   "metadata": {},
   "cell_type": "code",
   "source": "vector_store.similarity_search(\"rag\")",
   "id": "c44317afeaba6614",
   "outputs": [],
   "execution_count": null
  }
 ],
 "metadata": {
  "kernelspec": {
   "display_name": "Python 3",
   "language": "python",
   "name": "python3"
  },
  "language_info": {
   "codemirror_mode": {
    "name": "ipython",
    "version": 2
   },
   "file_extension": ".py",
   "mimetype": "text/x-python",
   "name": "python",
   "nbconvert_exporter": "python",
   "pygments_lexer": "ipython2",
   "version": "2.7.6"
  }
 },
 "nbformat": 4,
 "nbformat_minor": 5
}
