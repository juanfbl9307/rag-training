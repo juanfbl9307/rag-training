{
 "cells": [
  {
   "metadata": {},
   "cell_type": "code",
   "source": [
    "from langchain_community.document_loaders import WebBaseLoader\n",
    "\n",
    "loader = WebBaseLoader(web_path=[\"https://amarilo.com.co/proyecto/ibis-alameda-del-rio\",\"https://amarilo.com.co/proyecto/monterivera-lago-alto\",\"https://amarilo.com.co/proyecto/lira-alameda-del-rio\",\"https://amarilo.com.co/proyecto/amatista-alameda-del-rio\",\"https://amarilo.com.co/proyecto/flamingo-alameda-del-rio\"],verify_ssl = False)\n",
    "docs = loader.load()\n",
    "\n",
    "docs[0].metadata"
   ],
   "id": "fab14ba71795620d",
   "outputs": [],
   "execution_count": null
  },
  {
   "metadata": {},
   "cell_type": "code",
   "source": [
    "import os\n",
    "from langchain_chroma import Chroma\n",
    "from langchain_openai import OpenAIEmbeddings\n",
    "import chromadb\n",
    "os.environ[\"LANGSMITH_PROJECT\"] = \"data-chunking-pdf\"\n",
    "embeddings = OpenAIEmbeddings(model=\"text-embedding-3-large\")\n",
    "chroma_client = chromadb.HttpClient(host='localhost', port=8000)\n",
    "\n",
    "collection_name = \"real-state\"\n",
    "\n",
    "vector_store = Chroma(\n",
    "    collection_name=collection_name,\n",
    "    embedding_function=embeddings,\n",
    "    client=chroma_client\n",
    ")"
   ],
   "id": "c7b1e4fc84d49e8a",
   "outputs": [],
   "execution_count": null
  },
  {
   "metadata": {},
   "cell_type": "code",
   "source": [
    "from langchain_text_splitters import RecursiveCharacterTextSplitter\n",
    "\n",
    "\n",
    "text_splitter = RecursiveCharacterTextSplitter(chunk_size=1000, chunk_overlap=200)\n",
    "chunked_documents = text_splitter.split_documents(docs)\n",
    "vector_store.add_documents(chunked_documents)\n",
    "print(f\"Added {len(chunked_documents)} chunks to chroma db\")"
   ],
   "id": "a22a897253f79f89",
   "outputs": [],
   "execution_count": null
  }
 ],
 "metadata": {
  "kernelspec": {
   "name": "python3",
   "language": "python",
   "display_name": "Python 3 (ipykernel)"
  }
 },
 "nbformat": 5,
 "nbformat_minor": 9
}
