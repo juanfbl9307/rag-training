{
 "cells": [
  {
   "metadata": {
    "ExecuteTime": {
     "end_time": "2025-03-09T00:13:00.240732Z",
     "start_time": "2025-03-09T00:12:58.714608Z"
    }
   },
   "cell_type": "code",
   "source": [
    "from langchain_community.document_loaders import WebBaseLoader\n",
    "\n",
    "loader = WebBaseLoader(web_path=[\"https://amarilo.com.co/proyecto/ibis-alameda-del-rio\",\"https://amarilo.com.co/proyecto/monterivera-lago-alto\",\"https://amarilo.com.co/proyecto/lira-alameda-del-rio\",\"https://amarilo.com.co/proyecto/amatista-alameda-del-rio\",\"https://amarilo.com.co/proyecto/flamingo-alameda-del-rio\"],verify_ssl = False)\n",
    "docs = loader.load()\n",
    "\n",
    "docs[0].metadata"
   ],
   "id": "fab14ba71795620d",
   "outputs": [
    {
     "name": "stderr",
     "output_type": "stream",
     "text": [
      "/Users/fabioboterolyons/maxi/rag-training/rag/.venv/lib/python3.12/site-packages/urllib3/connectionpool.py:1097: InsecureRequestWarning: Unverified HTTPS request is being made to host 'amarilo.com.co'. Adding certificate verification is strongly advised. See: https://urllib3.readthedocs.io/en/latest/advanced-usage.html#tls-warnings\n",
      "  warnings.warn(\n",
      "/Users/fabioboterolyons/maxi/rag-training/rag/.venv/lib/python3.12/site-packages/urllib3/connectionpool.py:1097: InsecureRequestWarning: Unverified HTTPS request is being made to host 'amarilo.com.co'. Adding certificate verification is strongly advised. See: https://urllib3.readthedocs.io/en/latest/advanced-usage.html#tls-warnings\n",
      "  warnings.warn(\n",
      "/Users/fabioboterolyons/maxi/rag-training/rag/.venv/lib/python3.12/site-packages/urllib3/connectionpool.py:1097: InsecureRequestWarning: Unverified HTTPS request is being made to host 'amarilo.com.co'. Adding certificate verification is strongly advised. See: https://urllib3.readthedocs.io/en/latest/advanced-usage.html#tls-warnings\n",
      "  warnings.warn(\n",
      "/Users/fabioboterolyons/maxi/rag-training/rag/.venv/lib/python3.12/site-packages/urllib3/connectionpool.py:1097: InsecureRequestWarning: Unverified HTTPS request is being made to host 'amarilo.com.co'. Adding certificate verification is strongly advised. See: https://urllib3.readthedocs.io/en/latest/advanced-usage.html#tls-warnings\n",
      "  warnings.warn(\n",
      "/Users/fabioboterolyons/maxi/rag-training/rag/.venv/lib/python3.12/site-packages/urllib3/connectionpool.py:1097: InsecureRequestWarning: Unverified HTTPS request is being made to host 'amarilo.com.co'. Adding certificate verification is strongly advised. See: https://urllib3.readthedocs.io/en/latest/advanced-usage.html#tls-warnings\n",
      "  warnings.warn(\n"
     ]
    },
    {
     "data": {
      "text/plain": [
       "{'source': 'https://amarilo.com.co/proyecto/ibis-alameda-del-rio',\n",
       " 'title': 'Ibis - Alameda del Río | Amarilo',\n",
       " 'description': 'Descubre Ibis, nuestro nuevo proyecto de vivienda TOPE VIS en la estratégica y vibrante zona de Alameda del Río, en la Nueva Barranquilla.',\n",
       " 'language': 'es'}"
      ]
     },
     "execution_count": 11,
     "metadata": {},
     "output_type": "execute_result"
    }
   ],
   "execution_count": 11
  },
  {
   "metadata": {
    "ExecuteTime": {
     "end_time": "2025-03-09T00:13:00.315409Z",
     "start_time": "2025-03-09T00:13:00.248398Z"
    }
   },
   "cell_type": "code",
   "source": [
    "import os\n",
    "from langchain_chroma import Chroma\n",
    "from langchain_openai import OpenAIEmbeddings\n",
    "import chromadb\n",
    "os.environ[\"LANGSMITH_PROJECT\"] = \"data-chunking-pdf\"\n",
    "embeddings = OpenAIEmbeddings(model=\"text-embedding-3-large\")\n",
    "chroma_client = chromadb.HttpClient(host='localhost', port=8000)\n",
    "\n",
    "collection_name = \"real-state\"\n",
    "\n",
    "vector_store = Chroma(\n",
    "    collection_name=collection_name,\n",
    "    embedding_function=embeddings,\n",
    "    client=chroma_client\n",
    ")"
   ],
   "id": "c7b1e4fc84d49e8a",
   "outputs": [],
   "execution_count": 12
  },
  {
   "metadata": {
    "ExecuteTime": {
     "end_time": "2025-03-09T00:13:02.805136Z",
     "start_time": "2025-03-09T00:13:00.320625Z"
    }
   },
   "cell_type": "code",
   "source": [
    "from langchain_text_splitters import RecursiveCharacterTextSplitter\n",
    "\n",
    "\n",
    "text_splitter = RecursiveCharacterTextSplitter(chunk_size=1000, chunk_overlap=200)\n",
    "chunked_documents = text_splitter.split_documents(docs)\n",
    "vector_store.add_documents(chunked_documents)\n",
    "print(f\"Added {len(chunked_documents)} chunks to chroma db\")"
   ],
   "id": "a22a897253f79f89",
   "outputs": [
    {
     "name": "stdout",
     "output_type": "stream",
     "text": [
      "Added 41 chunks to chroma db\n"
     ]
    }
   ],
   "execution_count": 13
  }
 ],
 "metadata": {
  "kernelspec": {
   "name": "python3",
   "language": "python",
   "display_name": "Python 3 (ipykernel)"
  }
 },
 "nbformat": 5,
 "nbformat_minor": 9
}
