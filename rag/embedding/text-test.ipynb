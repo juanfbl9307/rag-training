{
 "cells": [
  {
   "cell_type": "code",
   "id": "initial_id",
   "metadata": {
    "collapsed": true,
    "ExecuteTime": {
     "end_time": "2025-06-27T17:34:49.361900Z",
     "start_time": "2025-06-27T17:34:49.278169Z"
    }
   },
   "source": [
    "from langchain_chroma import Chroma\n",
    "from langchain_openai import OpenAIEmbeddings\n",
    "from dotenv import load_dotenv\n",
    "import os\n",
    "import chromadb\n",
    "from chromadb.config import Settings\n",
    "\n",
    "load_dotenv()\n",
    "os.environ[\"LANGSMITH_PROJECT\"] = \"data-chunking-txt\"\n",
    "embeddings = OpenAIEmbeddings(model=\"text-embedding-3-small\")\n",
    "chroma_client = chromadb.HttpClient(host='localhost', port=8000,settings=Settings(\n",
    "        anonymized_telemetry=False\n",
    "    ))\n",
    "print(chroma_client.heartbeat())\n",
    "\n",
    "vector_store = Chroma(\n",
    "    create_collection_if_not_exists=True,\n",
    "    collection_name=\"human-resources\",\n",
    "    embedding_function=embeddings,\n",
    "    client=chroma_client\n",
    ")"
   ],
   "outputs": [
    {
     "name": "stderr",
     "output_type": "stream",
     "text": [
      "Failed to send telemetry event ClientStartEvent: capture() takes 1 positional argument but 3 were given\n"
     ]
    },
    {
     "name": "stdout",
     "output_type": "stream",
     "text": [
      "1751045689353639839\n"
     ]
    }
   ],
   "execution_count": 11
  },
  {
   "metadata": {
    "ExecuteTime": {
     "end_time": "2025-06-27T17:33:54.349367Z",
     "start_time": "2025-06-27T17:33:45.258120Z"
    }
   },
   "cell_type": "code",
   "source": [
    "from langchain.text_splitter import RecursiveCharacterTextSplitter\n",
    "from langchain.document_loaders import TextLoader\n",
    "\n",
    "loader = TextLoader(\"../data/human-resources/data.txt\")  # Reemplaza con la ruta de tu archivo\n",
    "documents = loader.load()\n",
    "\n",
    "text_splitter = RecursiveCharacterTextSplitter(\n",
    "    chunk_size=100,  # Tamaño de cada chunk (en caracteres)\n",
    "    chunk_overlap=20,  # Superposición entre chunks\n",
    "    length_function=len,  # Función para calcular la longitud del texto\n",
    ")\n",
    "chunks = text_splitter.split_documents(documents)\n",
    "\n",
    "# 4. Almacenar los embeddings en una base de datos vectorial (FAISS en este caso)\n",
    "vector_db = vector_store.from_documents(chunks, embeddings)\n",
    "vector_store.add_documents(chunks)"
   ],
   "id": "4e04127bda54bdc3",
   "outputs": [
    {
     "name": "stderr",
     "output_type": "stream",
     "text": [
      "Failed to send telemetry event ClientStartEvent: capture() takes 1 positional argument but 3 were given\n",
      "Failed to send telemetry event ClientCreateCollectionEvent: capture() takes 1 positional argument but 3 were given\n"
     ]
    },
    {
     "data": {
      "text/plain": [
       "['d3799a7c-356b-4b85-b83c-5cba3678765f',\n",
       " '44382783-7888-4c73-b112-35df116b4126',\n",
       " '2885eaed-5a0e-4c06-8eed-0b46c69152a8',\n",
       " '732e8b4a-1561-44d6-99f5-d2e98aacb21a',\n",
       " 'e28953c0-1979-4a17-b99e-782557f196da',\n",
       " 'f8353a9d-d41d-469f-9921-ea9bfa0aabdc',\n",
       " '70459a44-2276-4128-83a9-109d571453f4',\n",
       " '667d9798-0771-4206-bd93-f94d9d868f31',\n",
       " 'fa88529a-7d2d-4a8d-b0a7-d22f0c570d89',\n",
       " '370c0f19-df9c-4350-a2a1-54899d08880d',\n",
       " '2562a40b-594e-418e-8e62-ea3d216c5993',\n",
       " 'ac014c55-0b90-4351-806d-30e4b7f5bd8c',\n",
       " '0fc92762-fa24-45ec-89b5-f8b087b97c86',\n",
       " 'ff7cdee1-bc8f-4adb-883e-ff93f14c1d6a',\n",
       " '15d08019-89ba-41f2-934d-7764c7e19d74',\n",
       " 'e5184d29-f348-4a51-88d8-c33441a717be',\n",
       " 'ca7f853f-1300-402f-b204-32cc2c35a759',\n",
       " '4ae3139a-b551-4805-9757-d7baea0535e3',\n",
       " 'dd321a9b-4b8d-407d-b79f-b7c5fe97e0a8',\n",
       " '4922e817-8b01-4710-8b89-101a9600b655',\n",
       " '06ca7d4a-8f82-4d9f-91b6-8f986c5fe8ee',\n",
       " '515fdc60-c39a-41d6-a584-fd93de71db3c',\n",
       " '49e71187-ba67-4392-a31d-3e6efde31228',\n",
       " 'da0baa46-6f8f-4464-a5e7-89653c393dcb',\n",
       " '1697bed0-18f7-4f36-8069-67c1b162b183',\n",
       " '7a1fc4b5-4438-4a86-84de-ab7ffc205e7f',\n",
       " '8ff54f3b-1d1e-48ec-8709-c84b8b8330f2',\n",
       " '391a7e7b-daeb-46ba-b8fe-d8a4d7bbc90f',\n",
       " '7b0db855-a5ee-4f89-af9b-2e935e64e29f',\n",
       " '55ae0aeb-c8d9-4a2c-96f8-037637065d2f',\n",
       " '9b59e95f-8d3f-425c-9270-a2852dfd5b1a',\n",
       " '93d9a558-bf88-49ec-a0a6-143af84e28a8',\n",
       " 'd234f0e9-4acc-43b1-b287-5a28138c734b',\n",
       " 'd783866d-29a0-4937-ae8f-af9442cc7462',\n",
       " '89ee5575-86f7-4e27-b22b-34ab2c0f40e3',\n",
       " '94d3924d-64a3-48bf-b7d2-b7a5ddaa82eb',\n",
       " 'e755f6de-4ce8-4322-a419-4ed07d4a1c15',\n",
       " '2c40d968-8d50-41e1-a93b-c1f7380ad02f',\n",
       " '8db19272-6a49-4e81-8730-1d3dbcb93f18',\n",
       " '89dc6fc8-94d5-4af3-8928-fa15ff69f009',\n",
       " 'e0bdbc2e-5bcd-4b0c-9b6b-4df7697bff36',\n",
       " '95773ff7-2fcc-4d9e-83bb-d6f9b189f211',\n",
       " '4663d9d0-6c78-4456-9216-0d7b4f479f17',\n",
       " '524961bb-f10d-4c0c-b721-84e6e815755c',\n",
       " '0b841468-b8fc-4064-bcc8-1f3024f0fabb',\n",
       " '42f37fb0-5ebf-43ae-bb59-0a90ec6bfb3f',\n",
       " '65b997c3-a487-413a-adb7-e65ab296e296',\n",
       " '167df6ee-4099-401c-821c-d953f395248c',\n",
       " 'eb9f0536-8ba3-44fe-b113-af8bc4f9fe22',\n",
       " '0292c96f-7245-4dcb-9740-7523e40716f3',\n",
       " 'd9a0b374-b93b-4e4b-8eac-36df998bec67',\n",
       " '3f6c3f38-e186-403a-918f-b1f839e00f34',\n",
       " '2c8062d7-7cec-45ac-bcd0-f58360c7c275',\n",
       " 'a95277a2-2435-4c94-879b-5ce5738228d1',\n",
       " '91fd3a41-24e2-4812-a281-ac0efd36fca2',\n",
       " '4855f147-a0ed-4c26-a5f8-d0a73629fdcb',\n",
       " '8c90c208-66d1-4bbb-ba85-beebdcfbe6a2',\n",
       " 'cda9ccdb-45a0-45cb-8bc0-1ebca7e8dcc3',\n",
       " '4e87a092-48f3-4197-a6e1-685fe9a71fcc',\n",
       " '9a206a4f-01b9-4fe8-a9d8-648c5489e163',\n",
       " '7331a36a-043e-4ce1-af69-8e93a36d391e',\n",
       " '7e5af14f-1e5d-428c-a71d-232dc57dd9ce',\n",
       " '12c6a35a-8afd-4aee-bf33-86b2ffc3edc8',\n",
       " 'f63287b9-fd53-4af6-8938-5156fdf2a2d0',\n",
       " 'f9355552-037b-46b5-991e-b400d605f638',\n",
       " 'de65725b-77cd-4f93-b605-ab34a2155130',\n",
       " 'd238e6bc-e409-4b4f-948b-322a95afa513',\n",
       " 'f2754c59-5427-4996-b35f-43735d4f894e',\n",
       " 'a935f769-95a4-47ed-9ec2-3a9e7fa1bce9',\n",
       " '4a16330c-7878-477e-a765-9285ecc48f18',\n",
       " 'fac2671b-471d-4c95-94df-57cfde01be24',\n",
       " '04e3af8d-c0c1-4c85-a6ec-f61e1a4cb6f1',\n",
       " '4e4e3612-bb55-46c7-be01-394a16e5c529',\n",
       " '5f527637-b1f8-4a2b-b111-e74834a6b489',\n",
       " '0b86ffad-8720-4618-898a-3476634e6711',\n",
       " 'c3f17700-53da-4580-a141-09402ec00723',\n",
       " '33a2d65e-212f-4f71-95d6-6b62407083d4',\n",
       " 'ff6c5a27-51fc-4849-aa92-0cf373ac5114',\n",
       " 'ab639847-9978-4948-a5db-eb23ffbc2dd9',\n",
       " 'c0785ccc-5d96-45b2-be0d-a5772283e878',\n",
       " '4888e272-4055-4a0b-860b-40d77432e7cc',\n",
       " 'd7240f41-de59-472c-8ed5-23381c3c9888',\n",
       " 'b620a0ce-2c4c-4163-bd70-fd05726fb3e1',\n",
       " '4bf616d2-2956-4eac-af5d-1da37f472203',\n",
       " 'd330390a-c9f4-410e-8208-55e3f047167d',\n",
       " 'aaced454-37a0-4e8c-807e-f6032196c684',\n",
       " '0d32438c-25b1-428d-91a8-55474ecf8d08',\n",
       " '81886bc3-c165-487d-b3f8-b15b5afe5ce2',\n",
       " 'f93010bc-480f-4947-9725-dc20b51ae4bb',\n",
       " 'cfbb600c-efa8-477a-9509-def095a47a03',\n",
       " 'e2f0781a-ce42-4198-8671-fdf5b745acae',\n",
       " '7b47126c-8383-4c3d-926f-0ac26f92ae52',\n",
       " '2722a69e-9b53-4e50-a4a7-d96c106c38b9',\n",
       " '90e919a3-f178-48d2-af5a-31184d3ece95',\n",
       " 'afdeadfd-5903-4bd9-9e63-55dd2ff419ca',\n",
       " '11ad1de2-5597-445c-974e-9f71e714201c',\n",
       " '4f2ba058-1ae1-4c71-a98a-1629d1f613e2',\n",
       " 'c685d15b-eaec-4bc0-8520-487c990e71b3',\n",
       " 'd100f72b-bd3d-49a5-8c93-03819c1ec6cf',\n",
       " 'c322a0bc-f7d7-4998-9427-0d11d1a6eb52',\n",
       " 'da54f29b-7da9-4882-a26a-de9f320619a8',\n",
       " '1b2aeb39-fe47-4fa5-adf3-96e13a55c376',\n",
       " 'bdd4d567-7568-4c9a-a2c2-d43c94fbfcd5',\n",
       " '5d0d62cb-c582-4f08-9a56-dc7e326541e9',\n",
       " '1823ac67-630a-4816-804b-e36d22d7b807',\n",
       " '1537cb6d-4fed-4032-a29c-007aceac8009',\n",
       " '2d8c1e1f-bd96-4046-9c77-9e3c80cc9cf4',\n",
       " '6eb8be83-0347-4fe6-aa33-9bdf7750e653',\n",
       " '08dbfc8b-b558-4201-aa58-fe4d8d9c16aa',\n",
       " '960000cd-ce01-449b-97df-322bbabea726',\n",
       " '57306970-5fd9-40fa-857b-82f1187e5d30',\n",
       " '2a5a7f5a-f3e7-467b-a613-8b60c489d16b',\n",
       " '7515c545-97ef-443d-aac2-ad011a9bac66',\n",
       " '50cc388e-77d2-4624-82b7-5d74b24688a8',\n",
       " '0f5c4482-bd73-4946-8514-c748d130f357',\n",
       " '8a73a228-90ef-4a23-b99d-f2250247cdce',\n",
       " '06208132-0717-4f6b-bf14-d8f6c3e36a3e',\n",
       " '849df6f1-210b-483f-9837-aa42adb364b6',\n",
       " '86cdd7d2-8a6f-40ea-876c-c3ea8b94c41f',\n",
       " '7d2e9bea-f451-4378-bef9-07e9e9878c28',\n",
       " 'bc30e392-450a-43f3-a4b3-e411b6f64105',\n",
       " 'b4099f87-b8e1-4226-9688-20b714866826',\n",
       " 'd829f314-7405-43e8-8f41-c975c754169f',\n",
       " '5347d7ab-e0d4-4704-aaa0-cde34e1ef898',\n",
       " '3f3a7a6b-899e-4164-8efe-6db0b42876ea',\n",
       " '8e854b63-07dc-449c-89ec-98acc8c6bceb',\n",
       " '2286e361-0fe0-4cea-a3f8-755ec1640bb7',\n",
       " '576d6a35-ad5e-4967-85e8-080101cb248a',\n",
       " 'be08446c-9926-440e-a82e-edbfa97c725b',\n",
       " '2d63bc3f-df5c-4c91-a618-7bc9b96e7368',\n",
       " 'f78f94ad-38ed-4f66-a7f3-73d98c9f663c',\n",
       " 'b0277445-9ecd-4480-9f3d-b1d87cd508c5',\n",
       " '7a9170c9-0c85-4530-a908-af8d5a1c3426',\n",
       " '2dd0055d-346e-447d-a28e-ebd77f279702',\n",
       " 'bf085d00-c02a-40fa-9327-490bb40d220b',\n",
       " '263c0006-41dc-4333-8a70-335f8f5b62ef',\n",
       " 'cb7c941e-b5cc-4066-940d-109e2a9f4747',\n",
       " '44d18b43-017f-4f4a-af55-14db0de8b4ac',\n",
       " '0fb62e8a-f47d-478b-95f6-da6121219a4a',\n",
       " '45c9608f-3397-4462-9e1b-db998781e4ee',\n",
       " '10a2f332-491b-48f6-af85-0df4929c5433',\n",
       " '3155d4d4-f429-4272-94e1-c37d98350636',\n",
       " 'f101e370-5d90-47f5-9974-baaa76473ce9',\n",
       " '341cbb4f-8aa4-44fa-afe6-186f7136f9fd',\n",
       " 'c633155c-42bf-42a4-ae19-87959579d343',\n",
       " '397559b5-49b3-4c48-92cf-b9161ee0cd06',\n",
       " 'd3086ea8-eb65-424c-b545-60a95c2e01dd',\n",
       " '6c546df4-0aa6-4e23-9f00-9c8d59eeddfb',\n",
       " '720d9396-611f-45ed-96d9-1437230dd7ea',\n",
       " '1b798da7-4464-4b15-9956-13a4fb4ce13a',\n",
       " '2ebd8ef5-2ce6-4089-809d-8d3c909f0ef8',\n",
       " 'cf4d0f50-4cdf-4b4b-ac3f-1195310bd816',\n",
       " '6a9b576d-a5d1-4d58-9b25-f9f0fcffc63f',\n",
       " 'ea71902a-95cd-4253-8632-4e8fdbda24a1',\n",
       " 'c39e298a-fe4d-41b6-ac89-027c136129ed',\n",
       " 'a19412db-8b01-4bf0-b19e-0e06452df74b',\n",
       " 'ea24e7fe-b7c2-4e97-8e81-fcec61e77206',\n",
       " 'd84a53a3-207e-4043-8a2e-9a399577e5d1',\n",
       " 'f66fe889-f4f7-4f2c-a763-27666e5b8d87',\n",
       " 'db54511d-7d2d-4464-92c4-5b606b1f044e',\n",
       " 'cd7de5fd-99b8-4398-b10e-7f92f914e40d',\n",
       " '1cf7b70c-e0be-47d5-94be-ea6fea361ced',\n",
       " '65427a1f-1813-46d9-b0af-add5c3fb7d85',\n",
       " 'db20c226-958e-470d-a1f0-b77ac2c7bcbd',\n",
       " 'd9fecbf8-dd33-4520-b040-f304eb36235e',\n",
       " 'e096cd2b-e937-4568-8810-316a1b4c0d43',\n",
       " '00236b28-29fa-4517-a851-ea08ec95c54e',\n",
       " 'ee0ee090-a26e-40df-947b-06c70c28dd15',\n",
       " 'b876fbae-703d-4705-9e8b-019b306ad7d7',\n",
       " '21324cd0-5363-4207-b7f3-08339d952633']"
      ]
     },
     "execution_count": 10,
     "metadata": {},
     "output_type": "execute_result"
    }
   ],
   "execution_count": 10
  },
  {
   "metadata": {
    "ExecuteTime": {
     "end_time": "2025-06-27T17:34:56.980669Z",
     "start_time": "2025-06-27T17:34:55.477082Z"
    }
   },
   "cell_type": "code",
   "source": [
    "query = \"Fundamentales\"\n",
    "docs = vector_db.similarity_search(query)\n",
    "print(docs[0].page_content)"
   ],
   "id": "e79e34db5b3032d7",
   "outputs": [
    {
     "name": "stderr",
     "output_type": "stream",
     "text": [
      "Failed to send telemetry event CollectionQueryEvent: capture() takes 1 positional argument but 3 were given\n"
     ]
    },
    {
     "name": "stdout",
     "output_type": "stream",
     "text": [
      "**Valores Fundamentales:**\n"
     ]
    }
   ],
   "execution_count": 12
  }
 ],
 "metadata": {
  "kernelspec": {
   "display_name": "Python 3",
   "language": "python",
   "name": "python3"
  },
  "language_info": {
   "codemirror_mode": {
    "name": "ipython",
    "version": 2
   },
   "file_extension": ".py",
   "mimetype": "text/x-python",
   "name": "python",
   "nbconvert_exporter": "python",
   "pygments_lexer": "ipython2",
   "version": "2.7.6"
  }
 },
 "nbformat": 4,
 "nbformat_minor": 5
}
