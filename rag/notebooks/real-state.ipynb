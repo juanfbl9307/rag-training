{
 "cells": [
  {
   "cell_type": "code",
   "id": "initial_id",
   "metadata": {
    "collapsed": true,
    "ExecuteTime": {
     "end_time": "2025-04-15T01:03:03.555243Z",
     "start_time": "2025-04-15T01:03:03.478374Z"
    }
   },
   "source": [
    "import getpass\n",
    "import os\n",
    "from dotenv import load_dotenv\n",
    "from langchain_openai import ChatOpenAI\n",
    "from langchain_openai import OpenAIEmbeddings\n",
    "import chromadb\n",
    "if not os.environ.get(\"OPENAI_API_KEY\"):\n",
    "    os.environ[\"OPENAI_API_KEY\"] = getpass.getpass(\"Enter API key for OpenAI: \")\n",
    "\n",
    "load_dotenv()\n",
    "\n",
    "model = \"gpt-4o-mini\"\n",
    "\n",
    "llm = ChatOpenAI(temperature=0.5, model=model, max_tokens=4096)\n",
    "embeddings = OpenAIEmbeddings(model=\"text-embedding-3-large\")\n",
    "from langchain_chroma import Chroma\n",
    "os.environ[\"LANGSMITH_PROJECT\"] = \"user-manual\"\n",
    "\n",
    "chroma_client = chromadb.HttpClient(host='localhost', port=8000)\n",
    "print(chroma_client.heartbeat())\n",
    "\n",
    "vector_store = Chroma(\n",
    "    collection_name=\"user-manual\",\n",
    "    embedding_function=embeddings,\n",
    "    client=chroma_client\n",
    ")\n",
    "retriever = vector_store.as_retriever()\n"
   ],
   "outputs": [
    {
     "name": "stdout",
     "output_type": "stream",
     "text": [
      "1744678983544945093\n"
     ]
    }
   ],
   "execution_count": 48
  },
  {
   "metadata": {
    "ExecuteTime": {
     "end_time": "2025-04-15T01:03:03.561203Z",
     "start_time": "2025-04-15T01:03:03.558801Z"
    }
   },
   "cell_type": "code",
   "source": [
    "from langchain_core.prompts import ChatPromptTemplate, MessagesPlaceholder\n",
    "\n",
    "template = \"\"\"\n",
    "**Context**: {context}\n",
    "You are an expert in user manuals, your task is to provide accurate and useful information about the user manual. Use only the information provided in the documents to answer.\n",
    "**User Question**: {question}\n",
    "\n",
    "**Your Response**:\n",
    "1. Provide a clear and structured answer.\n",
    "2. Include examples, include prices, recommendations, or analogies if applicable.\n",
    "3. Do not include any additional explanations or context.\n",
    "4. Do not hallucinate.\n",
    "5. Provide the page number for reference.\n",
    "7. Answer the question in the language of the same question.\n",
    "\"\"\"\n",
    "prompt_template = ChatPromptTemplate([\n",
    "    (\"system\", template),\n",
    "    (\"user\", \"{question}\")\n",
    "])"
   ],
   "id": "1e4fcf5ba340e3b2",
   "outputs": [],
   "execution_count": 49
  },
  {
   "metadata": {
    "ExecuteTime": {
     "end_time": "2025-04-15T01:03:03.570441Z",
     "start_time": "2025-04-15T01:03:03.566823Z"
    }
   },
   "cell_type": "code",
   "source": [
    "from langchain_core.documents import Document\n",
    "from langgraph.graph import START, StateGraph\n",
    "from typing_extensions import List, TypedDict\n",
    "class State(TypedDict):\n",
    "    question: str\n",
    "    context: List[Document]\n",
    "    answer: str\n",
    "\n",
    "\n",
    "# Define application steps\n",
    "def retrieve(state: State):\n",
    "    retrieved_docs = vector_store.similarity_search(state[\"question\"],k=5)\n",
    "    return {\"context\": retrieved_docs}\n",
    "\n",
    "\n",
    "def generate(state: State):\n",
    "    docs_content = \"\\n\\n\".join(doc.page_content for doc in state[\"context\"])\n",
    "    messages = prompt_template.invoke({\"question\": state[\"question\"], \"context\": docs_content})\n",
    "    response = llm.invoke(messages)\n",
    "    return {\"answer\": response.content}\n",
    "\n",
    "graph_builder = StateGraph(State).add_sequence([retrieve, generate])\n",
    "graph_builder.add_edge(START, \"retrieve\")\n",
    "graph = graph_builder.compile()"
   ],
   "id": "af6ed2a1aebf98db",
   "outputs": [],
   "execution_count": 50
  },
  {
   "metadata": {
    "ExecuteTime": {
     "end_time": "2025-04-15T01:04:14.254282Z",
     "start_time": "2025-04-15T01:04:14.250760Z"
    }
   },
   "cell_type": "code",
   "source": "question = \"como se tiene que lavar?, especifica presion, distancia y materiales\"",
   "id": "921490522fae5695",
   "outputs": [],
   "execution_count": 53
  },
  {
   "metadata": {
    "ExecuteTime": {
     "end_time": "2025-04-15T01:05:27.029864Z",
     "start_time": "2025-04-15T01:05:19.387731Z"
    }
   },
   "cell_type": "code",
   "source": [
    "response = graph.invoke({\"question\": question})\n",
    "print(response[\"answer\"])"
   ],
   "id": "a3bd2512d0288d81",
   "outputs": [
    {
     "name": "stdout",
     "output_type": "stream",
     "text": [
      "1. **Lavado con limpiador a alta presión**:\n",
      "   - **Presión**: Sigue las instrucciones del equipo de limpieza a alta presión.\n",
      "   - **Distancia**: Mantén una distancia de al menos 40 cm entre el chorro de agua y la superficie del vehículo.\n",
      "   - **Materiales**: No utilices un chorro que expulse agua en un chorro directo o uno que tenga un chorro rotativo. La temperatura del agua no debe exceder los 60°C.\n",
      "\n",
      "2. **Lavado a mano**:\n",
      "   - **Materiales**: Usa una esponja suave o un cepillo y productos de limpieza que no contengan solventes. Para vehículos con pintura mate, utiliza un limpiador especial para pintura mate y un paño de microfibra.\n",
      "   - **Método**: Limpia el vehículo de arriba hacia abajo, primero eliminando el polvo y la suciedad gruesa, luego enjuaga con abundante agua y aplica el producto de limpieza.\n",
      "\n",
      "Referencia: Página 356.\n"
     ]
    }
   ],
   "execution_count": 55
  }
 ],
 "metadata": {
  "kernelspec": {
   "display_name": "Python 3",
   "language": "python",
   "name": "python3"
  },
  "language_info": {
   "codemirror_mode": {
    "name": "ipython",
    "version": 2
   },
   "file_extension": ".py",
   "mimetype": "text/x-python",
   "name": "python",
   "nbconvert_exporter": "python",
   "pygments_lexer": "ipython2",
   "version": "2.7.6"
  }
 },
 "nbformat": 4,
 "nbformat_minor": 5
}
