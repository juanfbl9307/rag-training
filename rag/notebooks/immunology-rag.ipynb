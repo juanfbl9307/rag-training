{
 "cells": [
  {
   "cell_type": "code",
   "id": "initial_id",
   "metadata": {
    "collapsed": true,
    "ExecuteTime": {
     "end_time": "2025-02-13T17:44:32.295191Z",
     "start_time": "2025-02-13T17:44:29.748794Z"
    }
   },
   "source": [
    "import getpass\n",
    "import os\n",
    "from dotenv import load_dotenv\n",
    "from langchain_openai import ChatOpenAI\n",
    "from langchain_openai import OpenAIEmbeddings\n",
    "import chromadb\n",
    "if not os.environ.get(\"OPENAI_API_KEY\"):\n",
    "    os.environ[\"OPENAI_API_KEY\"] = getpass.getpass(\"Enter API key for OpenAI: \")\n",
    "\n",
    "load_dotenv()\n",
    "\n",
    "model = \"gpt-3.5-turbo\"\n",
    "\n",
    "llm = ChatOpenAI(temperature=0.5, model=model, max_tokens=4096)\n",
    "embeddings = OpenAIEmbeddings(model=\"text-embedding-3-large\")\n",
    "from langchain_chroma import Chroma\n",
    "os.environ[\"LANGSMITH_PROJECT\"] = \"data-chunking-pdf\"\n",
    "\n",
    "chroma_client = chromadb.HttpClient(host='localhost', port=8000)\n",
    "print(chroma_client.heartbeat())\n",
    "\n",
    "vector_store = Chroma(\n",
    "    collection_name=\"immunology\",\n",
    "    embedding_function=embeddings,\n",
    "    client=chroma_client\n",
    ")\n",
    "retriever = vector_store.as_retriever()\n"
   ],
   "outputs": [
    {
     "name": "stdout",
     "output_type": "stream",
     "text": [
      "1739468672284734336\n"
     ]
    }
   ],
   "execution_count": 1
  },
  {
   "metadata": {
    "ExecuteTime": {
     "end_time": "2025-02-13T17:44:32.304174Z",
     "start_time": "2025-02-13T17:44:32.300790Z"
    }
   },
   "cell_type": "code",
   "source": [
    "# from langchain_core.prompts import ChatPromptTemplate, MessagesPlaceholder\n",
    "#\n",
    "# template = \"\"\"\n",
    "# You are an advanced AI specialized in biology, medicine, and immunology.\n",
    "# Your goal is to generate a precise, scientifically rigorous, and well-structured response to the user's query.\n",
    "# Use the provided context retrieved from authoritative sources. If the context is insufficient, explicitly state any assumptions\n",
    "# but avoid speculation or fabrication.\n",
    "#\n",
    "# ### **User Query**\n",
    "# {question}\n",
    "#\n",
    "# ### **Retrieved Context**\n",
    "# {context}\n",
    "#\n",
    "# ### **Response Guidelines**\n",
    "# 1. **Context Utilization** → Integrate the retrieved context into your answer. Summarize key insights rather than restating verbatim.\n",
    "# 2. **Scientific Accuracy** → Ensure all claims are supported by biological mechanisms, physiological processes, or clinical data.\n",
    "# 3. **Structured Output** → Organize the response with appropriate sections:\n",
    "#    - **Introduction** (Briefly define the topic)\n",
    "#    - **Mechanism** (Explain the biological/medical process)\n",
    "#    - **Clinical Insights** (Relevance in medicine, patient outcomes, treatments)\n",
    "#    - **Limitations & Uncertainties** (Potential gaps, conflicting studies)\n",
    "#    - **Future Directions** (Emerging research, open questions)\n",
    "# 4. **Transparency** → If the context is insufficient, clearly indicate where more data is needed. Do not fabricate information.\n",
    "# 5. **Critical Analysis** → Compare different perspectives if applicable and highlight areas of debate in the scientific community.\n",
    "#\n",
    "# ### **Output Format**\n",
    "# Your response should be formal, structured, and suitable for scientific or medical professionals. Provide references to biological processes, immune responses, or relevant clinical studies where appropriate.\n",
    "# \"\"\"\n",
    "# prompt_template = ChatPromptTemplate([\n",
    "#     (\"system\", template),\n",
    "#     (\"user\", \"{question}\")\n",
    "# ])"
   ],
   "id": "1e4fcf5ba340e3b2",
   "outputs": [],
   "execution_count": 2
  },
  {
   "metadata": {
    "ExecuteTime": {
     "end_time": "2025-02-13T17:44:32.514512Z",
     "start_time": "2025-02-13T17:44:32.511377Z"
    }
   },
   "cell_type": "code",
   "source": [
    "from langchain_core.prompts import ChatPromptTemplate, MessagesPlaceholder\n",
    "\n",
    "template = \"\"\"\n",
    "You are an advanced AI teacher specialized in biology, medicine, and immunology.\n",
    "Your goal is to generate a precise, scientifically rigorous, and well-structured response to the user's query.\n",
    "Use the provided context retrieved from authoritative sources. If the context is insufficient, explicitly state any assumptions\n",
    "but avoid speculation or fabrication.\n",
    "\n",
    "### **User Query**\n",
    "{question}\n",
    "\n",
    "### **Retrieved Context**\n",
    "{context}\n",
    "\n",
    "### **Response Guidelines**\n",
    "1. **Context Utilization** → Integrate the retrieved context into your answer. Summarize key insights rather than restating verbatim.\n",
    "2. **Scientific Accuracy** → Ensure all claims are supported by biological mechanisms, physiological processes, or clinical data.\n",
    "3. **Structured Output** → Questions for exams.\n",
    "4. **Transparency** → If the context is insufficient, clearly indicate where more data is needed. Do not fabricate information.\n",
    "5. **Critical Analysis** → Compare different perspectives if applicable and highlight areas of debate in the scientific community.\n",
    "\n",
    "### **Output Format**\n",
    "Your response should be formal, structured, and suitable for scientific or medical professionals. Provide references to biological processes, immune responses, or relevant clinical studies where appropriate. Response in spanish.\n",
    "\"\"\"\n",
    "prompt_template = ChatPromptTemplate([\n",
    "    (\"system\", template),\n",
    "    (\"user\", \"{question}\")\n",
    "])"
   ],
   "id": "eddaf1efcf38a4c5",
   "outputs": [],
   "execution_count": 3
  },
  {
   "metadata": {
    "ExecuteTime": {
     "end_time": "2025-02-13T17:44:32.525585Z",
     "start_time": "2025-02-13T17:44:32.522905Z"
    }
   },
   "cell_type": "code",
   "source": "question = \"elabora 5 preguntas de seleccion multiple de aspectos molecuras de las celulas del sistema inmune\"",
   "id": "8c6fe70486a0a2c",
   "outputs": [],
   "execution_count": 4
  },
  {
   "metadata": {
    "ExecuteTime": {
     "end_time": "2025-02-13T17:44:32.537555Z",
     "start_time": "2025-02-13T17:44:32.534858Z"
    }
   },
   "cell_type": "code",
   "source": [
    "# from langchain_core.runnables import RunnablePassthrough\n",
    "# from langchain_core.output_parsers import StrOutputParser\n",
    "#\n",
    "# rag_chain = (\n",
    "#         {\"context\": retriever, \"question\": RunnablePassthrough()}\n",
    "#         | prompt_template\n",
    "#         | llm\n",
    "#         | StrOutputParser()\n",
    "# )\n",
    "#\n",
    "# response = rag_chain.invoke(question)\n",
    "# print(response)"
   ],
   "id": "87071815fe0b7f25",
   "outputs": [],
   "execution_count": 5
  },
  {
   "metadata": {
    "ExecuteTime": {
     "end_time": "2025-02-13T17:44:32.709556Z",
     "start_time": "2025-02-13T17:44:32.554530Z"
    }
   },
   "cell_type": "code",
   "source": [
    "from langchain_core.documents import Document\n",
    "from langgraph.graph import START, StateGraph\n",
    "from typing_extensions import List, TypedDict\n",
    "class State(TypedDict):\n",
    "    question: str\n",
    "    context: List[Document]\n",
    "    answer: str\n",
    "\n",
    "\n",
    "# Define application steps\n",
    "def retrieve(state: State):\n",
    "    retrieved_docs = vector_store.similarity_search(state[\"question\"],k=3)\n",
    "    return {\"context\": retrieved_docs}\n",
    "\n",
    "\n",
    "def generate(state: State):\n",
    "    docs_content = \"\\n\\n\".join(doc.page_content for doc in state[\"context\"])\n",
    "    messages = prompt_template.invoke({\"question\": state[\"question\"], \"context\": docs_content})\n",
    "    response = llm.invoke(messages)\n",
    "    return {\"answer\": response.content}\n",
    "\n",
    "graph_builder = StateGraph(State).add_sequence([retrieve, generate])\n",
    "graph_builder.add_edge(START, \"retrieve\")\n",
    "graph = graph_builder.compile()"
   ],
   "id": "af6ed2a1aebf98db",
   "outputs": [],
   "execution_count": 6
  },
  {
   "metadata": {
    "ExecuteTime": {
     "end_time": "2025-02-13T17:44:38.183598Z",
     "start_time": "2025-02-13T17:44:32.716553Z"
    }
   },
   "cell_type": "code",
   "source": [
    "response = graph.invoke({\"question\": question})\n",
    "print(response[\"answer\"])"
   ],
   "id": "a3bd2512d0288d81",
   "outputs": [
    {
     "name": "stdout",
     "output_type": "stream",
     "text": [
      "1. ¿Cuál de las siguientes moléculas es fundamental para la comunicación entre células del sistema inmune?\n",
      "   A) Citoquina\n",
      "   B) Quimiocina\n",
      "   C) Complemento (C′)\n",
      "   D) MHC II\n",
      "\n",
      "2. ¿Qué molécula es crucial para la presentación de antígenos a los linfocitos T en el sistema inmune?\n",
      "   A) MHC I\n",
      "   B) TCR\n",
      "   C) Inmunoglobulina (Ig)\n",
      "   D) Antígeno\n",
      "\n",
      "3. ¿Qué tipo de molécula es esencial para la identificación de antígenos por parte de los linfocitos B en el sistema inmune?\n",
      "   A) MHC II\n",
      "   B) TCR\n",
      "   C) Quimiocina\n",
      "   D) Inmunoglobulina (Ig)\n",
      "\n",
      "4. ¿Qué molécula es clave para la activación de la vía clásica del sistema del complemento en la respuesta inmune?\n",
      "   A) Citoquina\n",
      "   B) Complemento (C′)\n",
      "   C) MHC I\n",
      "   D) TCR\n",
      "\n",
      "5. ¿Cuál de las siguientes moléculas está involucrada en la presentación de antígenos a los linfocitos T citotóxicos?\n",
      "   A) MHC II\n",
      "   B) TCR\n",
      "   C) MHC I\n",
      "   D) Inmunoglobulina (Ig)\n"
     ]
    }
   ],
   "execution_count": 7
  }
 ],
 "metadata": {
  "kernelspec": {
   "display_name": "Python 3",
   "language": "python",
   "name": "python3"
  },
  "language_info": {
   "codemirror_mode": {
    "name": "ipython",
    "version": 2
   },
   "file_extension": ".py",
   "mimetype": "text/x-python",
   "name": "python",
   "nbconvert_exporter": "python",
   "pygments_lexer": "ipython2",
   "version": "2.7.6"
  }
 },
 "nbformat": 4,
 "nbformat_minor": 5
}
