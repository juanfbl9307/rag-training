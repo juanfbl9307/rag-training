{
 "cells": [
  {
   "cell_type": "code",
   "id": "initial_id",
   "metadata": {
    "collapsed": true,
    "ExecuteTime": {
     "end_time": "2025-02-12T00:58:25.225080Z",
     "start_time": "2025-02-12T00:58:21.963739Z"
    }
   },
   "source": [
    "import getpass\n",
    "import os\n",
    "from dotenv import load_dotenv\n",
    "from langchain_openai import ChatOpenAI\n",
    "from langchain_openai import OpenAIEmbeddings\n",
    "import chromadb\n",
    "if not os.environ.get(\"OPENAI_API_KEY\"):\n",
    "    os.environ[\"OPENAI_API_KEY\"] = getpass.getpass(\"Enter API key for OpenAI: \")\n",
    "\n",
    "load_dotenv()\n",
    "\n",
    "model = \"gpt-3.5-turbo\"\n",
    "\n",
    "llm = ChatOpenAI(temperature=0.5, model=model, max_tokens=4096)\n",
    "embeddings = OpenAIEmbeddings(model=\"text-embedding-3-large\")\n",
    "from langchain_chroma import Chroma\n",
    "os.environ[\"LANGSMITH_PROJECT\"] = \"data-chunking-pdf\"\n",
    "\n",
    "chroma_client = chromadb.HttpClient(host='localhost', port=8000)\n",
    "print(chroma_client.heartbeat())\n",
    "\n",
    "vector_store = Chroma(\n",
    "    collection_name=\"immunology\",\n",
    "    embedding_function=embeddings,\n",
    "    client=chroma_client\n",
    ")\n",
    "retriever = vector_store.as_retriever()\n"
   ],
   "outputs": [
    {
     "name": "stdout",
     "output_type": "stream",
     "text": [
      "1739321905211451950\n"
     ]
    }
   ],
   "execution_count": 1
  },
  {
   "metadata": {
    "ExecuteTime": {
     "end_time": "2025-02-12T00:58:25.237273Z",
     "start_time": "2025-02-12T00:58:25.232071Z"
    }
   },
   "cell_type": "code",
   "source": [
    "from langchain_core.prompts import ChatPromptTemplate, MessagesPlaceholder\n",
    "\n",
    "template = \"\"\"\n",
    "You are an advanced AI specialized in biology, medicine, and immunology.\n",
    "Your goal is to generate a precise, scientifically rigorous, and well-structured response to the user's query.\n",
    "Use the provided context retrieved from authoritative sources. If the context is insufficient, explicitly state any assumptions\n",
    "but avoid speculation or fabrication.\n",
    "\n",
    "### **User Query**\n",
    "{question}\n",
    "\n",
    "### **Retrieved Context**\n",
    "{context}\n",
    "\n",
    "### **Response Guidelines**\n",
    "1. **Context Utilization** → Integrate the retrieved context into your answer. Summarize key insights rather than restating verbatim.\n",
    "2. **Scientific Accuracy** → Ensure all claims are supported by biological mechanisms, physiological processes, or clinical data.\n",
    "3. **Structured Output** → Organize the response with appropriate sections:\n",
    "   - **Introduction** (Briefly define the topic)\n",
    "   - **Mechanism** (Explain the biological/medical process)\n",
    "   - **Clinical Insights** (Relevance in medicine, patient outcomes, treatments)\n",
    "   - **Limitations & Uncertainties** (Potential gaps, conflicting studies)\n",
    "   - **Future Directions** (Emerging research, open questions)\n",
    "4. **Transparency** → If the context is insufficient, clearly indicate where more data is needed. Do not fabricate information.\n",
    "5. **Critical Analysis** → Compare different perspectives if applicable and highlight areas of debate in the scientific community.\n",
    "\n",
    "### **Output Format**\n",
    "Your response should be formal, structured, and suitable for scientific or medical professionals. Provide references to biological processes, immune responses, or relevant clinical studies where appropriate.\n",
    "\"\"\"\n",
    "prompt_template = ChatPromptTemplate([\n",
    "    (\"system\", template),\n",
    "    (\"user\", \"{question}\")\n",
    "])"
   ],
   "id": "1e4fcf5ba340e3b2",
   "outputs": [],
   "execution_count": 2
  },
  {
   "metadata": {
    "ExecuteTime": {
     "end_time": "2025-02-12T01:14:56.516664Z",
     "start_time": "2025-02-12T01:14:56.485969Z"
    }
   },
   "cell_type": "code",
   "source": "question = \"How do antigen-presenting cells (APCs) differentially process and present exogenous vs. endogenous antigens via MHC class I and II pathways, and what are the implications of cross-presentation in the context of viral infections and tumor immunity?\"",
   "id": "8c6fe70486a0a2c",
   "outputs": [],
   "execution_count": 7
  },
  {
   "metadata": {
    "ExecuteTime": {
     "end_time": "2025-02-12T01:15:04.192260Z",
     "start_time": "2025-02-12T01:14:58.591143Z"
    }
   },
   "cell_type": "code",
   "source": [
    "from langchain_core.runnables import RunnablePassthrough\n",
    "from langchain_core.output_parsers import StrOutputParser\n",
    "\n",
    "rag_chain = (\n",
    "        {\"context\": retriever, \"question\": RunnablePassthrough()}\n",
    "        | prompt_template\n",
    "        | llm\n",
    "        | StrOutputParser()\n",
    ")\n",
    "\n",
    "response = rag_chain.invoke(question)\n",
    "print(response)"
   ],
   "id": "87071815fe0b7f25",
   "outputs": [
    {
     "name": "stdout",
     "output_type": "stream",
     "text": [
      "### **Introduction**\n",
      "Antigen-presenting cells (APCs) play a crucial role in the immune system by capturing, processing, and presenting antigens to T cells. The major histocompatibility complex (MHC) class I and II pathways are essential for presenting antigens derived from exogenous (outside the cell) and endogenous (inside the cell) sources, respectively.\n",
      "\n",
      "### **Mechanism of Antigen Processing and Presentation**\n",
      "- **Exogenous Antigens (MHC Class II Pathway):**\n",
      "  - APCs internalize extracellular proteins or pathogens via endocytosis or phagocytosis.\n",
      "  - Antigens are processed in endosomes, where they are degraded into peptides.\n",
      "  - Peptides bind to MHC class II molecules in the endosome and are presented on the cell surface for recognition by CD4+ T cells.\n",
      "\n",
      "- **Endogenous Antigens (MHC Class I Pathway):**\n",
      "  - Intracellular antigens, like viral proteins, are processed in the cytoplasm.\n",
      "  - Proteins are degraded by the proteasome into peptides.\n",
      "  - Peptides are transported into the endoplasmic reticulum, where they bind to MHC class I molecules and are presented on the cell surface for recognition by CD8+ T cells.\n",
      "\n",
      "### **Implications of Cross-Presentation**\n",
      "- **Viral Infections:**\n",
      "  - Cross-presentation allows APCs to present exogenous viral antigens on MHC class I molecules, activating CD8+ cytotoxic T lymphocytes (CTLs) to eliminate infected cells.\n",
      "  - This mechanism enhances immune responses against intracellular pathogens like viruses, contributing to viral clearance.\n",
      "\n",
      "- **Tumor Immunity:**\n",
      "  - Cross-presentation is crucial in tumor immunity as it enables APCs to present tumor antigens on MHC class I molecules, stimulating a cytotoxic T cell response against cancer cells.\n",
      "  - Effective cross-presentation can lead to tumor cell destruction and potentially aid in immunotherapeutic approaches for cancer treatment.\n",
      "\n",
      "### **Limitations & Uncertainties**\n",
      "- The efficiency of cross-presentation and its impact on immune responses may vary depending on the type of antigen and the context of the immune microenvironment.\n",
      "- Further research is needed to understand the factors influencing cross-presentation efficiency and its modulation in different disease states.\n",
      "\n",
      "### **Future Directions**\n",
      "- Investigating the molecular mechanisms that regulate cross-presentation could provide insights for developing novel immunotherapies targeting viral infections and cancer.\n",
      "- Exploring strategies to enhance cross-presentation efficiency may improve vaccine design and immunotherapeutic interventions.\n",
      "\n",
      "By understanding how APCs process and present exogenous and endogenous antigens via MHC class I and II pathways, researchers and clinicians can harness these mechanisms to develop more effective immune-based strategies for combating infections and cancer.\n"
     ]
    }
   ],
   "execution_count": 8
  },
  {
   "metadata": {
    "ExecuteTime": {
     "end_time": "2025-02-12T00:58:30.723650Z",
     "start_time": "2025-02-12T00:58:30.502769Z"
    }
   },
   "cell_type": "code",
   "source": [
    "from langchain_core.documents import Document\n",
    "from langgraph.graph import START, StateGraph\n",
    "from typing_extensions import List, TypedDict\n",
    "class State(TypedDict):\n",
    "    question: str\n",
    "    context: List[Document]\n",
    "    answer: str\n",
    "\n",
    "\n",
    "# Define application steps\n",
    "def retrieve(state: State):\n",
    "    retrieved_docs = vector_store.similarity_search(state[\"question\"],k=3)\n",
    "    return {\"context\": retrieved_docs}\n",
    "\n",
    "\n",
    "def generate(state: State):\n",
    "    docs_content = \"\\n\\n\".join(doc.page_content for doc in state[\"context\"])\n",
    "    messages = prompt_template.invoke({\"question\": state[\"question\"], \"context\": docs_content})\n",
    "    response = llm.invoke(messages)\n",
    "    return {\"answer\": response.content}\n",
    "\n",
    "graph_builder = StateGraph(State).add_sequence([retrieve, generate])\n",
    "graph_builder.add_edge(START, \"retrieve\")\n",
    "graph = graph_builder.compile()"
   ],
   "id": "af6ed2a1aebf98db",
   "outputs": [],
   "execution_count": 5
  },
  {
   "metadata": {
    "ExecuteTime": {
     "end_time": "2025-02-12T01:16:00.558122Z",
     "start_time": "2025-02-12T01:15:54.315235Z"
    }
   },
   "cell_type": "code",
   "source": [
    "response = graph.invoke({\"question\": question})\n",
    "print(response[\"answer\"])"
   ],
   "id": "a3bd2512d0288d81",
   "outputs": [
    {
     "name": "stdout",
     "output_type": "stream",
     "text": [
      "### **Introduction**\n",
      "Antigen-presenting cells (APCs) play a crucial role in the immune system by capturing, processing, and presenting antigens to T cells. The major histocompatibility complex (MHC) class I and II pathways are utilized by APCs to present antigens to CD8+ cytotoxic T lymphocytes (CTLs) and CD4+ helper T cells, respectively.\n",
      "\n",
      "### **Mechanism of Antigen Processing and Presentation**\n",
      "1. **Exogenous Antigens (MHC Class II Pathway):**\n",
      "   - APCs internalize extracellular proteins into endosomes.\n",
      "   - These proteins are degraded into peptides within endosomes.\n",
      "   - Peptides bind to MHC class II molecules and are presented on the cell surface for recognition by CD4+ T cells, which activate immune responses against extracellular pathogens.\n",
      "\n",
      "2. **Endogenous Antigens (MHC Class I Pathway):**\n",
      "   - Proteins synthesized within the cell are degraded in the cytosol.\n",
      "   - Peptides from these proteins bind to MHC class I molecules.\n",
      "   - The peptide-MHC class I complex is presented on the cell surface for recognition by CD8+ cytotoxic T lymphocytes (CTLs), which target infected or abnormal cells.\n",
      "\n",
      "3. **Cross-Presentation:**\n",
      "   - Cross-presentation involves the presentation of exogenous antigens on MHC class I molecules.\n",
      "   - This process allows APCs to activate CD8+ T cells against extracellular antigens, such as viral particles or tumor-derived antigens, which are normally presented on MHC class II molecules.\n",
      "   - Cross-presentation is crucial in viral infections and tumor immunity as it enables the immune system to target infected or cancerous cells effectively.\n",
      "\n",
      "### **Clinical Insights**\n",
      "1. **Viral Infections:**\n",
      "   - Cross-presentation is essential in viral infections to activate CD8+ CTLs against infected cells, leading to their elimination.\n",
      "   - Efficient cross-presentation ensures a robust antiviral immune response and clearance of viral pathogens.\n",
      "\n",
      "2. **Tumor Immunity:**\n",
      "   - In the context of tumors, cross-presentation allows APCs to present tumor antigens on MHC class I molecules, activating CTLs to target and destroy cancer cells.\n",
      "   - Enhancing cross-presentation is a promising strategy in cancer immunotherapy to boost anti-tumor immune responses.\n",
      "\n",
      "### **Limitations & Uncertainties**\n",
      "- The mechanisms and regulation of cross-presentation are still not fully understood, and further research is needed to optimize this process for therapeutic interventions.\n",
      "- Variability in cross-presentation efficiency among different APC subsets and in different disease contexts warrants more investigation.\n",
      "\n",
      "### **Future Directions**\n",
      "- Future studies could focus on enhancing cross-presentation efficiency, developing novel immunotherapies that leverage cross-presentation, and elucidating the molecular mechanisms underlying this process.\n",
      "\n",
      "By understanding the differential processing and presentation of exogenous and endogenous antigens via MHC class I and II pathways, researchers can harness these mechanisms to improve immune responses against infections and cancers.\n"
     ]
    }
   ],
   "execution_count": 9
  }
 ],
 "metadata": {
  "kernelspec": {
   "display_name": "Python 3",
   "language": "python",
   "name": "python3"
  },
  "language_info": {
   "codemirror_mode": {
    "name": "ipython",
    "version": 2
   },
   "file_extension": ".py",
   "mimetype": "text/x-python",
   "name": "python",
   "nbconvert_exporter": "python",
   "pygments_lexer": "ipython2",
   "version": "2.7.6"
  }
 },
 "nbformat": 4,
 "nbformat_minor": 5
}
